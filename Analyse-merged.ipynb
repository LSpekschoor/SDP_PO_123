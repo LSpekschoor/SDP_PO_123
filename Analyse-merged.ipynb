{
 "cells": [
  {
   "cell_type": "code",
   "execution_count": null,
   "metadata": {},
   "outputs": [],
   "source": [
    "import numpy as np\n",
    "import pandas as pd\n",
    "import os\n",
    "import matplotlib.pyplot as plt\n",
    "import seaborn as sns\n",
    "from sklearn.linear_model import LinearRegression, LogisticRegression\n",
    "from sklearn.model_selection import train_test_split\n",
    "import sklearn\n",
    "from sklearn import metrics\n",
    "import re"
   ]
  },
  {
   "cell_type": "code",
   "execution_count": null,
   "metadata": {},
   "outputs": [],
   "source": [
    "#Data source: https://www.kaggle.com/datasets/gauthamp10/google-playstore-apps\n",
    "data_folder = os.getcwd() +\"/../data/\"\n",
    "csv_name = \"Google-Playstore.csv\"\n",
    "data_path = data_folder + csv_name"
   ]
  },
  {
   "cell_type": "code",
   "execution_count": null,
   "metadata": {},
   "outputs": [],
   "source": [
    "df = pd.read_csv(data_path)\n",
    "\n",
    "#Feature engineering (eng) starts\n",
    "eng_df = df.drop(['Installs', 'Currency', 'Minimum Installs', 'Developer Website', 'Developer Email', 'Privacy Policy', 'App Name'], axis=1)\n",
    "\n",
    "# pak een n sample vd dataframe\n",
    "eng_df_s = eng_df.sample(n=10000, random_state=123) #small\n",
    "eng_df_t = eng_df.sample(n=1000, random_state=123) #tiny\n",
    "eng_df_tt = eng_df.sample(n=200, random_state=123) #teeny-tiny\n",
    "\n",
    "#Select one for further use\n",
    "eng_df = eng_df_t"
   ]
  },
  {
   "cell_type": "code",
   "execution_count": null,
   "metadata": {},
   "outputs": [],
   "source": [
    "#What kind of Size values exist, going by the text part of the string\n",
    "size_cats = eng_df_s['Size'].apply(lambda x: re.findall('([\\sA-Za-z]*$)', str(x))[0])\n",
    "print(size_cats.value_counts())\n",
    "\n",
    "#Knowing there are three kinds of known sizes (kb, Mb, Gb) we convert these to Mb\n",
    "#But because there are also missing values or OS dependent sizes, we store this categorically in an extra column\n",
    "#(known sizes will be categorized as 'known')\n",
    "def process_Size(value):\n",
    "    value = str(value)\n",
    "    conversion = {'k':0.001, 'M':1.0, 'G':1000.0}\n",
    "    if value[-1] in conversion.keys():\n",
    "        value = value.replace(',', '') #added because some \n",
    "        size = float(value[:-1]) * conversion[value[-1]]\n",
    "        category = 'Known'\n",
    "    else:\n",
    "        size = None\n",
    "        category = value\n",
    "    return (size, category)\n",
    "\n",
    "\n",
    "temp_df = pd.DataFrame(eng_df['Size'].apply(lambda x: process_Size(x)).tolist(), columns=['Size', 'Size_category'])\n",
    "eng_df['Size'] = temp_df['Size'].values\n",
    "eng_df['Size_category'] = temp_df['Size_category'].values\n",
    "#del temp_df ##bugged, but I'd prefer to delete"
   ]
  },
  {
   "cell_type": "code",
   "execution_count": null,
   "metadata": {},
   "outputs": [],
   "source": [
    "#Separate quantitative columns into a quantitative dataframe\n",
    "q_df = eng_df[['Rating', 'Rating Count', 'Maximum Installs', 'Price', 'Size']]\n",
    "standard_deviations = 3\n",
    "q_df = q_df[q_df.apply(lambda x: np.abs(x - x.mean()) / x.std() < standard_deviations)\n",
    "   .all(axis=1)]\n",
    "\n",
    "#Log-transform\n",
    "#Needs to be edited so it's only applied to some columns (e.g. installs but not rating)\n",
    "transf_q_df = q_df.apply(lambda x: np.log10(x, where=0<x))\n",
    "sns.pairplot(transf_q_df, kind=\"kde\")\n",
    "#One by one alternative: sns.distplot(col1, col2)"
   ]
  },
  {
   "cell_type": "code",
   "execution_count": null,
   "metadata": {},
   "outputs": [],
   "source": [
    "#Only run this with sufficiently small sample\n",
    "sns.pairplot(q_df)"
   ]
  }
 ],
 "metadata": {
  "kernelspec": {
   "display_name": "base",
   "language": "python",
   "name": "python3"
  },
  "language_info": {
   "name": "python",
   "version": "3.9.13"
  },
  "orig_nbformat": 4,
  "vscode": {
   "interpreter": {
    "hash": "ad2bdc8ecc057115af97d19610ffacc2b4e99fae6737bb82f5d7fb13d2f2c186"
   }
  }
 },
 "nbformat": 4,
 "nbformat_minor": 2
}
