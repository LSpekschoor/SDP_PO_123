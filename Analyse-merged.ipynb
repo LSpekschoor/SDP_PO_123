{
 "cells": [
  {
   "cell_type": "code",
   "execution_count": 1,
   "metadata": {},
   "outputs": [],
   "source": [
    "import numpy as np\n",
    "import pandas as pd\n",
    "import os\n",
    "import matplotlib.pyplot as plt\n",
    "import seaborn as sns\n",
    "from sklearn.linear_model import LinearRegression, LogisticRegression\n",
    "from sklearn.model_selection import train_test_split\n",
    "import sklearn\n",
    "from sklearn import metrics\n",
    "import re\n",
    "#"
   ]
  },
  {
   "cell_type": "code",
   "execution_count": 4,
   "metadata": {},
   "outputs": [],
   "source": [
    "#Data source: https://www.kaggle.com/datasets/gauthamp10/google-playstore-apps\n",
    "data_folder = os.getcwd() +\"/data/\"\n",
    "csv_name = \"Google-Playstore.csv\"\n",
    "data_path = data_folder + csv_name"
   ]
  },
  {
   "cell_type": "code",
   "execution_count": 5,
   "metadata": {},
   "outputs": [],
   "source": [
    "df = pd.read_csv(data_path)\n",
    "\n",
    "#Feature engineering (eng) starts\n",
    "eng_df = df.drop(['Installs', 'Currency', 'Minimum Installs', 'Developer Website', 'Developer Email', 'Privacy Policy', 'App Name'], axis=1)\n",
    "\n",
    "# pak een n sample vd dataframe\n",
    "eng_df_s = eng_df.sample(n=10000, random_state=123) #small\n",
    "eng_df_t = eng_df.sample(n=1000, random_state=123) #tiny\n",
    "eng_df_tt = eng_df.sample(n=200, random_state=123) #teeny-tiny\n",
    "\n",
    "#Select one for further use\n",
    "eng_df = eng_df_t"
   ]
  },
  {
   "cell_type": "code",
   "execution_count": 6,
   "metadata": {},
   "outputs": [
    {
     "name": "stdout",
     "output_type": "stream",
     "text": [
      "M                     9521\n",
      "Varies with device     315\n",
      "k                      164\n",
      "Name: Size, dtype: int64\n"
     ]
    }
   ],
   "source": [
    "#What kind of Size values exist, going by the text part of the string\n",
    "size_cats = eng_df_s['Size'].apply(lambda x: re.findall('([\\sA-Za-z]*$)', str(x))[0])\n",
    "print(size_cats.value_counts())\n",
    "\n",
    "#Knowing there are three kinds of known sizes (kb, Mb, Gb) we convert these to Mb\n",
    "#But because there are also missing values or OS dependent sizes, we store this categorically in an extra column\n",
    "#(known sizes will be categorized as 'known')\n",
    "def process_Size(value):\n",
    "    value = str(value)\n",
    "    conversion = {'k':0.001, 'M':1.0, 'G':1000.0}\n",
    "    if value[-1] in conversion.keys():\n",
    "        value = value.replace(',', '') #added because some \n",
    "        size = float(value[:-1]) * conversion[value[-1]]\n",
    "        category = 'Known'\n",
    "    else:\n",
    "        size = None\n",
    "        category = value\n",
    "    return (size, category)\n",
    "\n",
    "\n",
    "temp_df = pd.DataFrame(eng_df['Size'].apply(lambda x: process_Size(x)).tolist(), columns=['Size', 'Size_category'])\n",
    "eng_df['Size'] = temp_df['Size'].values\n",
    "eng_df['Size_category'] = temp_df['Size_category'].values\n",
    "#del temp_df ##bugged, but I'd prefer to delete"
   ]
  },
  {
   "cell_type": "code",
   "execution_count": 7,
   "metadata": {},
   "outputs": [],
   "source": [
    "#Separate quantitative columns into a quantitative dataframe\n",
    "q_df = eng_df[['Rating', 'Rating Count', 'Maximum Installs', 'Price', 'Size']]\n",
    "standard_deviations = 3\n",
    "q_df = q_df[q_df.apply(lambda x: np.abs(x - x.mean()) / x.std() < standard_deviations)\n",
    "   .all(axis=1)]\n",
    "\n",
    "#Log-transform\n",
    "#Needs to be edited so it's only applied to some columns (e.g. installs but not rating)\n",
    "transf_q_df = q_df.apply(lambda x: np.log10(x, where=0<x))"
   ]
  },
  {
   "cell_type": "code",
   "execution_count": null,
   "metadata": {},
   "outputs": [],
   "source": [
    "sns.pairplot(transf_q_df, kind=\"kde\")\n",
    "#One by one alternative: sns.distplot(col1, col2)"
   ]
  },
  {
   "cell_type": "code",
   "execution_count": null,
   "metadata": {},
   "outputs": [],
   "source": [
    "#Only run this with sufficiently small sample\n",
    "sns.pairplot(transf_q_df)"
   ]
  },
  {
   "cell_type": "code",
   "execution_count": 12,
   "metadata": {},
   "outputs": [
    {
     "name": "stdout",
     "output_type": "stream",
     "text": [
      "(938, 5)\n",
      "(938, 4)\n"
     ]
    }
   ],
   "source": [
    "#PCA to see if a) quantitative variables combined show some clustering and b) wether such clusters correspond to categorical variables\n",
    "from sklearn.preprocessing import StandardScaler\n",
    "from sklearn.decomposition import PCA\n",
    "\n",
    "scaler = StandardScaler()\n",
    "scaler.fit(q_df)\n",
    "scaled_qdf = scaler.transform(q_df)\n",
    "\n",
    "pca = PCA(n_components=4)\n",
    "pca.fit(scaled_qdf)\n",
    "\n",
    "x_pca = pca.transform(scaled_qdf)\n",
    "print(scaled_qdf.shape)\n",
    "print(x_pca.shape)"
   ]
  },
  {
   "cell_type": "code",
   "execution_count": 32,
   "metadata": {},
   "outputs": [
    {
     "data": {
      "text/plain": [
       "Text(0, 0.5, 'PC2')"
      ]
     },
     "execution_count": 32,
     "metadata": {},
     "output_type": "execute_result"
    },
    {
     "data": {
      "image/png": "[encoded data removed]",
      "text/plain": [
       "<Figure size 800x600 with 1 Axes>"
      ]
     },
     "metadata": {},
     "output_type": "display_data"
    }
   ],
   "source": [
    "pcs_oi = [1,2]\n",
    "plt.figure(figsize=(8,6))\n",
    "plt.scatter(x_pca[:,pcs_oi[0]-1],x_pca[:,pcs_oi[1]-1])\n",
    "plt.xlabel('PC'+str(pcs_oi[0]))\n",
    "plt.ylabel('PC'+str(pcs_oi[1]))"
   ]
  },
  {
   "cell_type": "code",
   "execution_count": 29,
   "metadata": {},
   "outputs": [
    {
     "data": {
      "text/plain": [
       "array([1.94258682, 1.0156151 , 0.95764943, 0.95513326])"
      ]
     },
     "execution_count": 29,
     "metadata": {},
     "output_type": "execute_result"
    }
   ],
   "source": [
    "pca.explained_variance_\n",
    "\n",
    "# "
   ]
  },
  {
   "cell_type": "code",
   "execution_count": 28,
   "metadata": {},
   "outputs": [
    {
     "data": {
      "text/plain": [
       "2021-06-16    1859744\n",
       "2021-06-15     453200\n",
       "Name: Scraped Time, dtype: int64"
      ]
     },
     "execution_count": 28,
     "metadata": {},
     "output_type": "execute_result"
    }
   ],
   "source": [
    "pd.to_datetime(df['Scraped Time']).dt.date.value_counts()"
   ]
  }
 ],
 "metadata": {
  "kernelspec": {
   "display_name": "base",
   "language": "python",
   "name": "python3"
  },
  "language_info": {
   "codemirror_mode": {
    "name": "ipython",
    "version": 3
   },
   "file_extension": ".py",
   "mimetype": "text/x-python",
   "name": "python",
   "nbconvert_exporter": "python",
   "pygments_lexer": "ipython3",
   "version": "3.9.13"
  },
  "orig_nbformat": 4,
  "vscode": {
   "interpreter": {
    "hash": "ad2bdc8ecc057115af97d19610ffacc2b4e99fae6737bb82f5d7fb13d2f2c186"
   }
  }
 },
 "nbformat": 4,
 "nbformat_minor": 2
}
