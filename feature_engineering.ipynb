{
 "cells": [
  {
   "cell_type": "code",
   "execution_count": 99,
   "metadata": {},
   "outputs": [],
   "source": [
    "import numpy as np\n",
    "import pandas as pd\n",
    "import os\n",
    "import sklearn\n",
    "from sklearn import metrics"
   ]
  },
  {
   "cell_type": "code",
   "execution_count": 100,
   "metadata": {},
   "outputs": [],
   "source": [
    "# Data source: https://www.kaggle.com/datasets/gauthamp10/google-playstore-apps\n",
    "path = os.getcwd() + \"/data/Google-Playstore.csv\"\n",
    "df = pd.read_csv(path)"
   ]
  },
  {
   "cell_type": "code",
   "execution_count": 101,
   "metadata": {},
   "outputs": [],
   "source": [
    "df = df.drop(['Scraped Time', 'Developer Id', 'Installs', 'Currency', 'Minimum Installs',  'Size',\n",
    "    'Developer Website', 'Developer Email', 'Privacy Policy', 'App Name', 'Minimum Android', 'Content Rating', \n",
    "    'Editors Choice'], axis=1)"
   ]
  },
  {
   "cell_type": "code",
   "execution_count": 102,
   "metadata": {},
   "outputs": [
    {
     "data": {
      "text/plain": [
       "Other                736774\n",
       "Development          668061\n",
       "Personal & Social    460998\n",
       "Entertainment        447111\n",
       "Name: Super Category, dtype: int64"
      ]
     },
     "execution_count": 102,
     "metadata": {},
     "output_type": "execute_result"
    }
   ],
   "source": [
    "cat_name = 'Super Category'\n",
    "df[cat_name] = df['Category']\n",
    "df[cat_name] = df[cat_name].replace(['Adventure', 'Racing', 'Puzzle', 'Entertainment', 'Arcade', 'Photography', 'Sports', 'Card', 'Trivia', 'Strategy', 'Action', 'Simulation', 'Casino', 'Comics'], 'Entertainment')\n",
    "df[cat_name] = df[cat_name].replace(['Communication', 'Social', 'Events', 'Dating', 'Role Playing', 'Lifestyle', 'Personalization', 'Medical', 'Health & Fitness', 'Beauty', 'Parenting'], 'Personal & Social')\n",
    "df[cat_name] = df[cat_name].replace(['Productivity', 'Books & Reference', 'Education', 'Business', 'Educational', 'Finance'], 'Development')\n",
    "df[cat_name] = df[cat_name].replace(['Casual', 'Tools', 'Libraries & Demo', 'Maps & Navigation', 'Travel & Local', 'Food & Drink', 'Music', 'Auto & Vehicles','Shopping', 'Board', 'Music & Audio', 'News & Magazines', 'Art & Design', 'House & Home', 'Weather', 'Word', 'Video Players & Editors'], 'Other')\n",
    "df[cat_name] = df[cat_name].astype('category')\n",
    "df[cat_name].value_counts()"
   ]
  },
  {
   "cell_type": "code",
   "execution_count": 103,
   "metadata": {},
   "outputs": [],
   "source": [
    "df['Rating Bin'] = pd.cut(df['Rating'],bins=[0,3.9,4.4,5], labels=['Bad App Yo', 'Moderate', 'Superb'])\n",
    "# labels=['Bad App Yo', 'Moderate', 'Superb']"
   ]
  },
  {
   "cell_type": "code",
   "execution_count": 104,
   "metadata": {},
   "outputs": [],
   "source": [
    "#date_of_dataset = 2021\n",
    "# df['Time since last update'] = pd.to_datetime(df['Last Updated']).apply(lambda date: date_of_dataset - int(date.year))"
   ]
  },
  {
   "cell_type": "code",
   "execution_count": 105,
   "metadata": {},
   "outputs": [
    {
     "data": {
      "text/plain": [
       "App Id                    0\n",
       "Category                  0\n",
       "Rating                22883\n",
       "Rating Count          22883\n",
       "Maximum Installs          0\n",
       "Free                      0\n",
       "Price                     0\n",
       "Released              71053\n",
       "Last Updated              0\n",
       "Ad Supported              0\n",
       "In App Purchases          0\n",
       "Super Category            0\n",
       "Rating Bin          1082645\n",
       "dtype: int64"
      ]
     },
     "execution_count": 105,
     "metadata": {},
     "output_type": "execute_result"
    }
   ],
   "source": [
    "df.isnull().sum()"
   ]
  },
  {
   "cell_type": "code",
   "execution_count": 106,
   "metadata": {},
   "outputs": [],
   "source": [
    "df = df.dropna()"
   ]
  },
  {
   "cell_type": "code",
   "execution_count": 116,
   "metadata": {},
   "outputs": [],
   "source": [
    "df['Last Updated'] = pd.to_datetime(df['Last Updated'])\n",
    "df['Released'] = pd.to_datetime(df['Released'])\n",
    "df['Diff Last updated and Release'] = (df['Last Updated'] - df['Released']).dt.days"
   ]
  },
  {
   "cell_type": "code",
   "execution_count": 118,
   "metadata": {},
   "outputs": [
    {
     "name": "stdout",
     "output_type": "stream",
     "text": [
      "<class 'pandas.core.frame.DataFrame'>\n",
      "Int64Index: 1203357 entries, 1 to 2312943\n",
      "Data columns (total 14 columns):\n",
      " #   Column                         Non-Null Count    Dtype         \n",
      "---  ------                         --------------    -----         \n",
      " 0   App Id                         1203357 non-null  object        \n",
      " 1   Category                       1203357 non-null  object        \n",
      " 2   Rating                         1203357 non-null  float64       \n",
      " 3   Rating Count                   1203357 non-null  float64       \n",
      " 4   Maximum Installs               1203357 non-null  int64         \n",
      " 5   Free                           1203357 non-null  bool          \n",
      " 6   Price                          1203357 non-null  float64       \n",
      " 7   Released                       1203357 non-null  datetime64[ns]\n",
      " 8   Last Updated                   1203357 non-null  datetime64[ns]\n",
      " 9   Ad Supported                   1203357 non-null  bool          \n",
      " 10  In App Purchases               1203357 non-null  bool          \n",
      " 11  Super Category                 1203357 non-null  category      \n",
      " 12  Rating Bin                     1203357 non-null  category      \n",
      " 13  Diff Last updated and Release  1203357 non-null  int64         \n",
      "dtypes: bool(3), category(2), datetime64[ns](2), float64(3), int64(2), object(2)\n",
      "memory usage: 97.5+ MB\n"
     ]
    }
   ],
   "source": [
    "df.info()"
   ]
  },
  {
   "cell_type": "code",
   "execution_count": 119,
   "metadata": {},
   "outputs": [],
   "source": [
    "# minder dan 100.000 installs en minstens 10 ratings\n",
    "df = df[(df['Maximum Installs'] < 100000) & (df['Rating Count'] >= 10)]"
   ]
  },
  {
   "cell_type": "code",
   "execution_count": 120,
   "metadata": {},
   "outputs": [
    {
     "data": {
      "text/plain": [
       "Superb        276811\n",
       "Bad App Yo    261710\n",
       "Moderate      250407\n",
       "Name: Rating Bin, dtype: int64"
      ]
     },
     "execution_count": 120,
     "metadata": {},
     "output_type": "execute_result"
    }
   ],
   "source": [
    "df['Rating Bin'].value_counts()"
   ]
  },
  {
   "attachments": {},
   "cell_type": "markdown",
   "metadata": {},
   "source": [
    "**Code below is still in development**"
   ]
  },
  {
   "cell_type": "code",
   "execution_count": 121,
   "metadata": {},
   "outputs": [],
   "source": [
    "def prepare_inputs(encoder_type, feature):\n",
    "    try:\n",
    "        ohe = encoder_type\n",
    "        return df.join(pd.DataFrame(data=ohe.fit_transform(df[[feature]]).toarray(), dtype=np.int8, \n",
    "            columns=list(df[feature].unique())))\n",
    "    except:\n",
    "        print(\"Get right column\")\n",
    "\n",
    "# reset index to be able to perform the join\n",
    "df = df.reset_index(drop=True)\n",
    "\n",
    "# one hot encoder\n",
    "df = prepare_inputs(sklearn.preprocessing.OneHotEncoder(), 'Rating Bin')\n",
    "df = prepare_inputs(sklearn.preprocessing.OneHotEncoder(), 'Super Category')"
   ]
  },
  {
   "cell_type": "code",
   "execution_count": 122,
   "metadata": {},
   "outputs": [
    {
     "data": {
      "text/plain": [
       "Index(['App Id', 'Category', 'Rating', 'Rating Count', 'Maximum Installs',\n",
       "       'Free', 'Price', 'Released', 'Last Updated', 'Ad Supported',\n",
       "       'In App Purchases', 'Super Category', 'Rating Bin',\n",
       "       'Diff Last updated and Release', 'Moderate', 'Superb', 'Bad App Yo',\n",
       "       'Other', 'Personal & Social', 'Entertainment', 'Development'],\n",
       "      dtype='object')"
      ]
     },
     "execution_count": 122,
     "metadata": {},
     "output_type": "execute_result"
    }
   ],
   "source": [
    "df.columns"
   ]
  },
  {
   "cell_type": "code",
   "execution_count": 123,
   "metadata": {},
   "outputs": [],
   "source": [
    "df = df.drop(['Last Updated', 'Rating', 'Category', 'Super Category', 'Rating Bin', 'Other', 'Released'], axis=1)\n",
    "# 'Rating Bin'"
   ]
  },
  {
   "cell_type": "code",
   "execution_count": 124,
   "metadata": {},
   "outputs": [
    {
     "data": {
      "text/html": [
       "<div>\n",
       "<style scoped>\n",
       "    .dataframe tbody tr th:only-of-type {\n",
       "        vertical-align: middle;\n",
       "    }\n",
       "\n",
       "    .dataframe tbody tr th {\n",
       "        vertical-align: top;\n",
       "    }\n",
       "\n",
       "    .dataframe thead th {\n",
       "        text-align: right;\n",
       "    }\n",
       "</style>\n",
       "<table border=\"1\" class=\"dataframe\">\n",
       "  <thead>\n",
       "    <tr style=\"text-align: right;\">\n",
       "      <th></th>\n",
       "      <th>App Id</th>\n",
       "      <th>Rating Count</th>\n",
       "      <th>Maximum Installs</th>\n",
       "      <th>Free</th>\n",
       "      <th>Price</th>\n",
       "      <th>Ad Supported</th>\n",
       "      <th>In App Purchases</th>\n",
       "      <th>Diff Last updated and Release</th>\n",
       "      <th>Moderate</th>\n",
       "      <th>Superb</th>\n",
       "      <th>Bad App Yo</th>\n",
       "      <th>Personal &amp; Social</th>\n",
       "      <th>Entertainment</th>\n",
       "      <th>Development</th>\n",
       "    </tr>\n",
       "  </thead>\n",
       "  <tbody>\n",
       "    <tr>\n",
       "      <th>0</th>\n",
       "      <td>com.webserveis.batteryinfo</td>\n",
       "      <td>64.0</td>\n",
       "      <td>7662</td>\n",
       "      <td>True</td>\n",
       "      <td>0.0</td>\n",
       "      <td>True</td>\n",
       "      <td>False</td>\n",
       "      <td>350</td>\n",
       "      <td>0</td>\n",
       "      <td>1</td>\n",
       "      <td>0</td>\n",
       "      <td>0</td>\n",
       "      <td>1</td>\n",
       "      <td>0</td>\n",
       "    </tr>\n",
       "    <tr>\n",
       "      <th>1</th>\n",
       "      <td>getfreedata.superfatiza.unlimitedjiodataprank</td>\n",
       "      <td>12.0</td>\n",
       "      <td>2567</td>\n",
       "      <td>True</td>\n",
       "      <td>0.0</td>\n",
       "      <td>True</td>\n",
       "      <td>False</td>\n",
       "      <td>4</td>\n",
       "      <td>0</td>\n",
       "      <td>0</td>\n",
       "      <td>1</td>\n",
       "      <td>0</td>\n",
       "      <td>1</td>\n",
       "      <td>0</td>\n",
       "    </tr>\n",
       "    <tr>\n",
       "      <th>2</th>\n",
       "      <td>com.mozaix.simoneboard</td>\n",
       "      <td>39.0</td>\n",
       "      <td>702</td>\n",
       "      <td>True</td>\n",
       "      <td>0.0</td>\n",
       "      <td>False</td>\n",
       "      <td>False</td>\n",
       "      <td>0</td>\n",
       "      <td>1</td>\n",
       "      <td>0</td>\n",
       "      <td>0</td>\n",
       "      <td>0</td>\n",
       "      <td>0</td>\n",
       "      <td>1</td>\n",
       "    </tr>\n",
       "    <tr>\n",
       "      <th>3</th>\n",
       "      <td>com.ikeyboard.theme.neon_3d.iron.tech</td>\n",
       "      <td>820.0</td>\n",
       "      <td>62433</td>\n",
       "      <td>True</td>\n",
       "      <td>0.0</td>\n",
       "      <td>True</td>\n",
       "      <td>False</td>\n",
       "      <td>381</td>\n",
       "      <td>0</td>\n",
       "      <td>0</td>\n",
       "      <td>1</td>\n",
       "      <td>0</td>\n",
       "      <td>0</td>\n",
       "      <td>1</td>\n",
       "    </tr>\n",
       "    <tr>\n",
       "      <th>4</th>\n",
       "      <td>com.MrScratchEnterprises.CarDogeGame</td>\n",
       "      <td>55.0</td>\n",
       "      <td>329</td>\n",
       "      <td>True</td>\n",
       "      <td>0.0</td>\n",
       "      <td>False</td>\n",
       "      <td>False</td>\n",
       "      <td>0</td>\n",
       "      <td>0</td>\n",
       "      <td>0</td>\n",
       "      <td>1</td>\n",
       "      <td>1</td>\n",
       "      <td>0</td>\n",
       "      <td>0</td>\n",
       "    </tr>\n",
       "  </tbody>\n",
       "</table>\n",
       "</div>"
      ],
      "text/plain": [
       "                                          App Id  Rating Count  \\\n",
       "0                     com.webserveis.batteryinfo          64.0   \n",
       "1  getfreedata.superfatiza.unlimitedjiodataprank          12.0   \n",
       "2                         com.mozaix.simoneboard          39.0   \n",
       "3          com.ikeyboard.theme.neon_3d.iron.tech         820.0   \n",
       "4           com.MrScratchEnterprises.CarDogeGame          55.0   \n",
       "\n",
       "   Maximum Installs  Free  Price  Ad Supported  In App Purchases  \\\n",
       "0              7662  True    0.0          True             False   \n",
       "1              2567  True    0.0          True             False   \n",
       "2               702  True    0.0         False             False   \n",
       "3             62433  True    0.0          True             False   \n",
       "4               329  True    0.0         False             False   \n",
       "\n",
       "   Diff Last updated and Release  Moderate  Superb  Bad App Yo  \\\n",
       "0                            350         0       1           0   \n",
       "1                              4         0       0           1   \n",
       "2                              0         1       0           0   \n",
       "3                            381         0       0           1   \n",
       "4                              0         0       0           1   \n",
       "\n",
       "   Personal & Social  Entertainment  Development  \n",
       "0                  0              1            0  \n",
       "1                  0              1            0  \n",
       "2                  0              0            1  \n",
       "3                  0              0            1  \n",
       "4                  1              0            0  "
      ]
     },
     "execution_count": 124,
     "metadata": {},
     "output_type": "execute_result"
    }
   ],
   "source": [
    "df.head()"
   ]
  },
  {
   "cell_type": "code",
   "execution_count": 125,
   "metadata": {},
   "outputs": [],
   "source": [
    "df['Rating Count'] = df['Rating Count'].astype('int')"
   ]
  },
  {
   "cell_type": "code",
   "execution_count": 126,
   "metadata": {},
   "outputs": [
    {
     "name": "stdout",
     "output_type": "stream",
     "text": [
      "<class 'pandas.core.frame.DataFrame'>\n",
      "RangeIndex: 788928 entries, 0 to 788927\n",
      "Data columns (total 14 columns):\n",
      " #   Column                         Non-Null Count   Dtype  \n",
      "---  ------                         --------------   -----  \n",
      " 0   App Id                         788928 non-null  object \n",
      " 1   Rating Count                   788928 non-null  int32  \n",
      " 2   Maximum Installs               788928 non-null  int64  \n",
      " 3   Free                           788928 non-null  bool   \n",
      " 4   Price                          788928 non-null  float64\n",
      " 5   Ad Supported                   788928 non-null  bool   \n",
      " 6   In App Purchases               788928 non-null  bool   \n",
      " 7   Diff Last updated and Release  788928 non-null  int64  \n",
      " 8   Moderate                       788928 non-null  int8   \n",
      " 9   Superb                         788928 non-null  int8   \n",
      " 10  Bad App Yo                     788928 non-null  int8   \n",
      " 11  Personal & Social              788928 non-null  int8   \n",
      " 12  Entertainment                  788928 non-null  int8   \n",
      " 13  Development                    788928 non-null  int8   \n",
      "dtypes: bool(3), float64(1), int32(1), int64(2), int8(6), object(1)\n",
      "memory usage: 33.9+ MB\n"
     ]
    }
   ],
   "source": [
    "df.info()"
   ]
  },
  {
   "cell_type": "code",
   "execution_count": 127,
   "metadata": {},
   "outputs": [],
   "source": [
    "df.to_parquet('data\\Google-Playstore-Modified.parquet')"
   ]
  }
 ],
 "metadata": {
  "kernelspec": {
   "display_name": "base",
   "language": "python",
   "name": "python3"
  },
  "language_info": {
   "codemirror_mode": {
    "name": "ipython",
    "version": 3
   },
   "file_extension": ".py",
   "mimetype": "text/x-python",
   "name": "python",
   "nbconvert_exporter": "python",
   "pygments_lexer": "ipython3",
   "version": "3.9.13"
  },
  "orig_nbformat": 4,
  "vscode": {
   "interpreter": {
    "hash": "ad2bdc8ecc057115af97d19610ffacc2b4e99fae6737bb82f5d7fb13d2f2c186"
   }
  }
 },
 "nbformat": 4,
 "nbformat_minor": 2
}
