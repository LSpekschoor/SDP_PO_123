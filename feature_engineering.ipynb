{
 "cells": [
  {
   "cell_type": "code",
   "execution_count": 7,
   "metadata": {},
   "outputs": [],
   "source": [
    "import numpy as np\n",
    "import pandas as pd\n",
    "import os\n",
    "import matplotlib.pyplot as plt\n",
    "import seaborn as sns\n",
    "from sklearn.linear_model import LinearRegression, LogisticRegression\n",
    "from sklearn.model_selection import train_test_split\n",
    "import sklearn\n",
    "from sklearn import metrics\n",
    "import re"
   ]
  },
  {
   "cell_type": "code",
   "execution_count": 8,
   "metadata": {},
   "outputs": [],
   "source": [
    "# Data source: https://www.kaggle.com/datasets/gauthamp10/google-playstore-apps\n",
    "path = os.getcwd() + \"/data/Google-Playstore.csv\"\n",
    "df = pd.read_csv(path)"
   ]
  },
  {
   "cell_type": "code",
   "execution_count": 9,
   "metadata": {},
   "outputs": [],
   "source": [
    "df = df.drop(['Scraped Time', 'Released', 'Developer Id', 'Installs', 'Currency', 'Minimum Installs',  'Size',\n",
    "    'Developer Website', 'Developer Email', 'Privacy Policy', 'App Name', 'Minimum Android', 'Content Rating', \n",
    "    'Editors Choice'], axis=1)"
   ]
  },
  {
   "cell_type": "code",
   "execution_count": 10,
   "metadata": {},
   "outputs": [
    {
     "data": {
      "text/plain": [
       "Other                736774\n",
       "Development          668061\n",
       "Personal & Social    460998\n",
       "Entertainment        447111\n",
       "Name: Super Category, dtype: int64"
      ]
     },
     "execution_count": 10,
     "metadata": {},
     "output_type": "execute_result"
    }
   ],
   "source": [
    "cat_name = 'Super Category'\n",
    "df[cat_name] = df['Category']\n",
    "df[cat_name] = df[cat_name].replace(['Adventure', 'Racing', 'Puzzle', 'Entertainment', 'Arcade', 'Photography', 'Sports', 'Card', 'Trivia', 'Strategy', 'Action', 'Simulation', 'Casino', 'Comics'], 'Entertainment')\n",
    "df[cat_name] = df[cat_name].replace(['Communication', 'Social', 'Events', 'Dating', 'Role Playing', 'Lifestyle', 'Personalization', 'Medical', 'Health & Fitness', 'Beauty', 'Parenting'], 'Personal & Social')\n",
    "df[cat_name] = df[cat_name].replace(['Productivity', 'Books & Reference', 'Education', 'Business', 'Educational', 'Finance'], 'Development')\n",
    "df[cat_name] = df[cat_name].replace(['Casual', 'Tools', 'Libraries & Demo', 'Maps & Navigation', 'Travel & Local', 'Food & Drink', 'Music', 'Auto & Vehicles','Shopping', 'Board', 'Music & Audio', 'News & Magazines', 'Art & Design', 'House & Home', 'Weather', 'Word', 'Video Players & Editors'], 'Other')\n",
    "df[cat_name] = df[cat_name].astype('category')\n",
    "df[cat_name].value_counts()"
   ]
  },
  {
   "cell_type": "code",
   "execution_count": 11,
   "metadata": {},
   "outputs": [],
   "source": [
    "df['Rating Bin'] = pd.cut(df['Rating'],bins=[0,3.8,4.4,5], labels=[0,1,2])\n",
    "# labels=['Bad App Yo', 'Moderate', 'Superb']"
   ]
  },
  {
   "cell_type": "code",
   "execution_count": 12,
   "metadata": {},
   "outputs": [],
   "source": [
    "date_of_dataset = 2021\n",
    "df['Time since last update'] = pd.to_datetime(df['Last Updated']).apply(lambda date: date_of_dataset - int(date.year))"
   ]
  },
  {
   "cell_type": "code",
   "execution_count": 13,
   "metadata": {},
   "outputs": [],
   "source": [
    "# df = df.drop(['Last Updated', 'Rating', 'Category'], axis=1)"
   ]
  },
  {
   "cell_type": "code",
   "execution_count": 14,
   "metadata": {},
   "outputs": [
    {
     "data": {
      "text/plain": [
       "App Id                    0\n",
       "Category                  0\n",
       "Rating                22883\n",
       "Rating Count          22883\n",
       "Maximum Installs          0\n",
       "Free                      0\n",
       "Price                     0\n",
       "Last Updated              0\n",
       "Ad Supported              0\n",
       "In App Purchases          0\n",
       "Super Category            0\n",
       "Rating Bin          1082645\n",
       "dtype: int64"
      ]
     },
     "execution_count": 14,
     "metadata": {},
     "output_type": "execute_result"
    }
   ],
   "source": [
    "df.isnull().sum()"
   ]
  },
  {
   "cell_type": "code",
   "execution_count": 15,
   "metadata": {},
   "outputs": [],
   "source": [
    "df = df.dropna()"
   ]
  },
  {
   "cell_type": "code",
   "execution_count": 16,
   "metadata": {},
   "outputs": [
    {
     "name": "stdout",
     "output_type": "stream",
     "text": [
      "<class 'pandas.core.frame.DataFrame'>\n",
      "Int64Index: 1230299 entries, 1 to 2312943\n",
      "Data columns (total 12 columns):\n",
      " #   Column            Non-Null Count    Dtype   \n",
      "---  ------            --------------    -----   \n",
      " 0   App Id            1230299 non-null  object  \n",
      " 1   Category          1230299 non-null  object  \n",
      " 2   Rating            1230299 non-null  float64 \n",
      " 3   Rating Count      1230299 non-null  float64 \n",
      " 4   Maximum Installs  1230299 non-null  int64   \n",
      " 5   Free              1230299 non-null  bool    \n",
      " 6   Price             1230299 non-null  float64 \n",
      " 7   Last Updated      1230299 non-null  object  \n",
      " 8   Ad Supported      1230299 non-null  bool    \n",
      " 9   In App Purchases  1230299 non-null  bool    \n",
      " 10  Super Category    1230299 non-null  category\n",
      " 11  Rating Bin        1230299 non-null  category\n",
      "dtypes: bool(3), category(2), float64(3), int64(1), object(3)\n",
      "memory usage: 81.0+ MB\n"
     ]
    }
   ],
   "source": [
    "df.info()"
   ]
  },
  {
   "cell_type": "code",
   "execution_count": 17,
   "metadata": {},
   "outputs": [],
   "source": [
    "# minder dan 100.000 installs en minstens 10 ratings\n",
    "df = df[(df['Maximum Installs'] < 100000) & (df['Rating Count'] >= 10)]"
   ]
  },
  {
   "cell_type": "code",
   "execution_count": 18,
   "metadata": {},
   "outputs": [
    {
     "data": {
      "text/plain": [
       "1    292342\n",
       "2    280900\n",
       "0    232780\n",
       "Name: Rating Bin, dtype: int64"
      ]
     },
     "execution_count": 18,
     "metadata": {},
     "output_type": "execute_result"
    }
   ],
   "source": [
    "df['Rating Bin'].value_counts()"
   ]
  },
  {
   "attachments": {},
   "cell_type": "markdown",
   "metadata": {},
   "source": [
    "**Code below is still in development**"
   ]
  },
  {
   "cell_type": "code",
   "execution_count": 19,
   "metadata": {},
   "outputs": [],
   "source": [
    "def prepare_inputs(encoder_type, feature):\n",
    "    try:\n",
    "        ohe = encoder_type\n",
    "        return df.join(pd.DataFrame(data=ohe.fit_transform(df[[feature]]).toarray(), dtype=np.int8, \n",
    "            columns=list(df[feature].unique())))\n",
    "    except:\n",
    "        print(\"Get right column\")\n",
    "\n",
    "# reset index to be able to perform the join\n",
    "df = df.reset_index(drop=True)\n",
    "\n",
    "# one hot encoder\n",
    "# df = prepare_inputs(sklearn.preprocessing.OneHotEncoder(), 'Rating Bin')\n",
    "df = prepare_inputs(sklearn.preprocessing.OneHotEncoder(), 'Super Category')"
   ]
  },
  {
   "cell_type": "code",
   "execution_count": 20,
   "metadata": {},
   "outputs": [
    {
     "data": {
      "text/plain": [
       "Index(['App Id', 'Category', 'Rating', 'Rating Count', 'Maximum Installs',\n",
       "       'Free', 'Price', 'Last Updated', 'Ad Supported', 'In App Purchases',\n",
       "       'Super Category', 'Rating Bin', 'Other', 'Personal & Social',\n",
       "       'Entertainment', 'Development'],\n",
       "      dtype='object')"
      ]
     },
     "execution_count": 20,
     "metadata": {},
     "output_type": "execute_result"
    }
   ],
   "source": [
    "df.columns"
   ]
  },
  {
   "cell_type": "code",
   "execution_count": 21,
   "metadata": {},
   "outputs": [],
   "source": [
    "df = df.drop(['Last Updated', 'Rating', 'Category', 'Super Category', 'Other'], axis=1)\n",
    "# 'Rating Bin'"
   ]
  },
  {
   "cell_type": "code",
   "execution_count": 22,
   "metadata": {},
   "outputs": [
    {
     "data": {
      "text/html": [
       "<div>\n",
       "<style scoped>\n",
       "    .dataframe tbody tr th:only-of-type {\n",
       "        vertical-align: middle;\n",
       "    }\n",
       "\n",
       "    .dataframe tbody tr th {\n",
       "        vertical-align: top;\n",
       "    }\n",
       "\n",
       "    .dataframe thead th {\n",
       "        text-align: right;\n",
       "    }\n",
       "</style>\n",
       "<table border=\"1\" class=\"dataframe\">\n",
       "  <thead>\n",
       "    <tr style=\"text-align: right;\">\n",
       "      <th></th>\n",
       "      <th>App Id</th>\n",
       "      <th>Rating Count</th>\n",
       "      <th>Maximum Installs</th>\n",
       "      <th>Free</th>\n",
       "      <th>Price</th>\n",
       "      <th>Ad Supported</th>\n",
       "      <th>In App Purchases</th>\n",
       "      <th>Rating Bin</th>\n",
       "      <th>Personal &amp; Social</th>\n",
       "      <th>Entertainment</th>\n",
       "      <th>Development</th>\n",
       "    </tr>\n",
       "  </thead>\n",
       "  <tbody>\n",
       "    <tr>\n",
       "      <th>0</th>\n",
       "      <td>com.webserveis.batteryinfo</td>\n",
       "      <td>64.0</td>\n",
       "      <td>7662</td>\n",
       "      <td>True</td>\n",
       "      <td>0.0</td>\n",
       "      <td>True</td>\n",
       "      <td>False</td>\n",
       "      <td>1</td>\n",
       "      <td>0</td>\n",
       "      <td>1</td>\n",
       "      <td>0</td>\n",
       "    </tr>\n",
       "    <tr>\n",
       "      <th>1</th>\n",
       "      <td>getfreedata.superfatiza.unlimitedjiodataprank</td>\n",
       "      <td>12.0</td>\n",
       "      <td>2567</td>\n",
       "      <td>True</td>\n",
       "      <td>0.0</td>\n",
       "      <td>True</td>\n",
       "      <td>False</td>\n",
       "      <td>2</td>\n",
       "      <td>0</td>\n",
       "      <td>1</td>\n",
       "      <td>0</td>\n",
       "    </tr>\n",
       "    <tr>\n",
       "      <th>2</th>\n",
       "      <td>com.mozaix.simoneboard</td>\n",
       "      <td>39.0</td>\n",
       "      <td>702</td>\n",
       "      <td>True</td>\n",
       "      <td>0.0</td>\n",
       "      <td>False</td>\n",
       "      <td>False</td>\n",
       "      <td>0</td>\n",
       "      <td>0</td>\n",
       "      <td>0</td>\n",
       "      <td>1</td>\n",
       "    </tr>\n",
       "    <tr>\n",
       "      <th>3</th>\n",
       "      <td>com.ikeyboard.theme.neon_3d.iron.tech</td>\n",
       "      <td>820.0</td>\n",
       "      <td>62433</td>\n",
       "      <td>True</td>\n",
       "      <td>0.0</td>\n",
       "      <td>True</td>\n",
       "      <td>False</td>\n",
       "      <td>2</td>\n",
       "      <td>0</td>\n",
       "      <td>0</td>\n",
       "      <td>1</td>\n",
       "    </tr>\n",
       "    <tr>\n",
       "      <th>4</th>\n",
       "      <td>com.MrScratchEnterprises.CarDogeGame</td>\n",
       "      <td>55.0</td>\n",
       "      <td>329</td>\n",
       "      <td>True</td>\n",
       "      <td>0.0</td>\n",
       "      <td>False</td>\n",
       "      <td>False</td>\n",
       "      <td>2</td>\n",
       "      <td>1</td>\n",
       "      <td>0</td>\n",
       "      <td>0</td>\n",
       "    </tr>\n",
       "  </tbody>\n",
       "</table>\n",
       "</div>"
      ],
      "text/plain": [
       "                                          App Id  Rating Count  \\\n",
       "0                     com.webserveis.batteryinfo          64.0   \n",
       "1  getfreedata.superfatiza.unlimitedjiodataprank          12.0   \n",
       "2                         com.mozaix.simoneboard          39.0   \n",
       "3          com.ikeyboard.theme.neon_3d.iron.tech         820.0   \n",
       "4           com.MrScratchEnterprises.CarDogeGame          55.0   \n",
       "\n",
       "   Maximum Installs  Free  Price  Ad Supported  In App Purchases Rating Bin  \\\n",
       "0              7662  True    0.0          True             False          1   \n",
       "1              2567  True    0.0          True             False          2   \n",
       "2               702  True    0.0         False             False          0   \n",
       "3             62433  True    0.0          True             False          2   \n",
       "4               329  True    0.0         False             False          2   \n",
       "\n",
       "   Personal & Social  Entertainment  Development  \n",
       "0                  0              1            0  \n",
       "1                  0              1            0  \n",
       "2                  0              0            1  \n",
       "3                  0              0            1  \n",
       "4                  1              0            0  "
      ]
     },
     "execution_count": 22,
     "metadata": {},
     "output_type": "execute_result"
    }
   ],
   "source": [
    "df.head()"
   ]
  },
  {
   "cell_type": "code",
   "execution_count": 23,
   "metadata": {},
   "outputs": [],
   "source": [
    "df['Rating Count'] = df['Rating Count'].astype('int')"
   ]
  },
  {
   "cell_type": "code",
   "execution_count": 24,
   "metadata": {},
   "outputs": [
    {
     "name": "stdout",
     "output_type": "stream",
     "text": [
      "<class 'pandas.core.frame.DataFrame'>\n",
      "RangeIndex: 806022 entries, 0 to 806021\n",
      "Data columns (total 11 columns):\n",
      " #   Column             Non-Null Count   Dtype   \n",
      "---  ------             --------------   -----   \n",
      " 0   App Id             806022 non-null  object  \n",
      " 1   Rating Count       806022 non-null  int32   \n",
      " 2   Maximum Installs   806022 non-null  int64   \n",
      " 3   Free               806022 non-null  bool    \n",
      " 4   Price              806022 non-null  float64 \n",
      " 5   Ad Supported       806022 non-null  bool    \n",
      " 6   In App Purchases   806022 non-null  bool    \n",
      " 7   Rating Bin         806022 non-null  category\n",
      " 8   Personal & Social  806022 non-null  int8    \n",
      " 9   Entertainment      806022 non-null  int8    \n",
      " 10  Development        806022 non-null  int8    \n",
      "dtypes: bool(3), category(1), float64(1), int32(1), int64(1), int8(3), object(1)\n",
      "memory usage: 26.9+ MB\n"
     ]
    }
   ],
   "source": [
    "df.info()"
   ]
  },
  {
   "cell_type": "code",
   "execution_count": 25,
   "metadata": {},
   "outputs": [],
   "source": [
    "# df.to_parquet('data\\Google-Playstore-Modified.parquet')"
   ]
  }
 ],
 "metadata": {
  "kernelspec": {
   "display_name": "base",
   "language": "python",
   "name": "python3"
  },
  "language_info": {
   "codemirror_mode": {
    "name": "ipython",
    "version": 3
   },
   "file_extension": ".py",
   "mimetype": "text/x-python",
   "name": "python",
   "nbconvert_exporter": "python",
   "pygments_lexer": "ipython3",
   "version": "3.9.13"
  },
  "orig_nbformat": 4,
  "vscode": {
   "interpreter": {
    "hash": "ad2bdc8ecc057115af97d19610ffacc2b4e99fae6737bb82f5d7fb13d2f2c186"
   }
  }
 },
 "nbformat": 4,
 "nbformat_minor": 2
}
