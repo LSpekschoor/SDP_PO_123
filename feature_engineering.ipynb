{
 "cells": [
  {
   "cell_type": "code",
   "execution_count": 79,
   "metadata": {},
   "outputs": [],
   "source": [
    "import numpy as np\n",
    "import pandas as pd\n",
    "import os\n",
    "import matplotlib.pyplot as plt\n",
    "import seaborn as sns\n",
    "from sklearn.linear_model import LinearRegression, LogisticRegression\n",
    "from sklearn.model_selection import train_test_split\n",
    "import sklearn\n",
    "from sklearn import metrics\n",
    "import re"
   ]
  },
  {
   "cell_type": "code",
   "execution_count": 80,
   "metadata": {},
   "outputs": [],
   "source": [
    "# Data source: https://www.kaggle.com/datasets/gauthamp10/google-playstore-apps\n",
    "path = os.getcwd() + \"/data/Google-Playstore.csv\"\n",
    "df = pd.read_csv(path)"
   ]
  },
  {
   "cell_type": "code",
   "execution_count": 81,
   "metadata": {},
   "outputs": [],
   "source": [
    "df = df.drop(['Scraped Time', 'Released', 'Developer Id', 'Installs', 'Currency', 'Minimum Installs',  'Size',\n",
    "    'Developer Website', 'Developer Email', 'Privacy Policy', 'App Name', 'Minimum Android', 'Content Rating', \n",
    "    'Editors Choice'], axis=1)"
   ]
  },
  {
   "cell_type": "code",
   "execution_count": 82,
   "metadata": {},
   "outputs": [
    {
     "data": {
      "text/plain": [
       "Other                736774\n",
       "Development          668061\n",
       "Personal & Social    460998\n",
       "Entertainment        447111\n",
       "Name: New Category, dtype: int64"
      ]
     },
     "execution_count": 82,
     "metadata": {},
     "output_type": "execute_result"
    }
   ],
   "source": [
    "df['New Category'] = df['Category']\n",
    "df['New Category'] = df['New Category'].replace(['Adventure', 'Racing', 'Puzzle', 'Entertainment', 'Arcade', 'Photography', 'Sports', 'Card', 'Trivia', 'Strategy', 'Action', 'Simulation', 'Casino', 'Comics'], 'Entertainment')\n",
    "df['New Category'] = df['New Category'].replace(['Communication', 'Social', 'Events', 'Dating', 'Role Playing', 'Lifestyle', 'Personalization', 'Medical', 'Health & Fitness', 'Beauty', 'Parenting'], 'Personal & Social')\n",
    "df['New Category'] = df['New Category'].replace(['Productivity', 'Books & Reference', 'Education', 'Business', 'Educational', 'Finance'], 'Development')\n",
    "df['New Category'] = df['New Category'].replace(['Casual', 'Tools', 'Libraries & Demo', 'Maps & Navigation', 'Travel & Local', 'Food & Drink', 'Music', 'Auto & Vehicles','Shopping', 'Board', 'Music & Audio', 'News & Magazines', 'Art & Design', 'House & Home', 'Weather', 'Word', 'Video Players & Editors'], 'Other')\n",
    "df['New Category'] = df['New Category'].astype('category')\n",
    "df['New Category'].value_counts()"
   ]
  },
  {
   "cell_type": "code",
   "execution_count": 121,
   "metadata": {},
   "outputs": [],
   "source": [
    "# Bins for ratings, needs cleaning\n",
    "df['Rating Bin'] = pd.cut(df['Rating'],bins=[0,3.8,4.4,5], labels=['Bad App Yo', 'Cool App', 'Sexy App'])"
   ]
  },
  {
   "cell_type": "code",
   "execution_count": 84,
   "metadata": {},
   "outputs": [],
   "source": [
    "date_of_dataset = 2021\n",
    "# df['Time since last update'] = pd.to_datetime(df['Last Updated']).apply(lambda date: date_of_dataset - int(date.year))"
   ]
  },
  {
   "cell_type": "code",
   "execution_count": 85,
   "metadata": {},
   "outputs": [],
   "source": [
    "# df = df.drop(['Last Updated', 'Rating', 'Category'], axis=1)"
   ]
  },
  {
   "cell_type": "code",
   "execution_count": 114,
   "metadata": {},
   "outputs": [
    {
     "data": {
      "text/plain": [
       "App Id              0\n",
       "Category            0\n",
       "Rating              0\n",
       "Rating Count        0\n",
       "Maximum Installs    0\n",
       "Free                0\n",
       "Price               0\n",
       "Last Updated        0\n",
       "Ad Supported        0\n",
       "In App Purchases    0\n",
       "New Category        0\n",
       "Rating Bin 2        0\n",
       "Rating Bin          0\n",
       "dtype: int64"
      ]
     },
     "execution_count": 114,
     "metadata": {},
     "output_type": "execute_result"
    }
   ],
   "source": [
    "df.isnull().sum()"
   ]
  },
  {
   "cell_type": "code",
   "execution_count": 87,
   "metadata": {},
   "outputs": [],
   "source": [
    "df = df.dropna()"
   ]
  },
  {
   "cell_type": "code",
   "execution_count": 88,
   "metadata": {},
   "outputs": [
    {
     "name": "stdout",
     "output_type": "stream",
     "text": [
      "<class 'pandas.core.frame.DataFrame'>\n",
      "Int64Index: 1230299 entries, 1 to 2312943\n",
      "Data columns (total 12 columns):\n",
      " #   Column            Non-Null Count    Dtype   \n",
      "---  ------            --------------    -----   \n",
      " 0   App Id            1230299 non-null  object  \n",
      " 1   Category          1230299 non-null  object  \n",
      " 2   Rating            1230299 non-null  float64 \n",
      " 3   Rating Count      1230299 non-null  float64 \n",
      " 4   Maximum Installs  1230299 non-null  int64   \n",
      " 5   Free              1230299 non-null  bool    \n",
      " 6   Price             1230299 non-null  float64 \n",
      " 7   Last Updated      1230299 non-null  object  \n",
      " 8   Ad Supported      1230299 non-null  bool    \n",
      " 9   In App Purchases  1230299 non-null  bool    \n",
      " 10  New Category      1230299 non-null  category\n",
      " 11  Rating Bin 2      1230299 non-null  category\n",
      "dtypes: bool(3), category(2), float64(3), int64(1), object(3)\n",
      "memory usage: 81.0+ MB\n"
     ]
    }
   ],
   "source": [
    "df.info()"
   ]
  },
  {
   "cell_type": "code",
   "execution_count": 89,
   "metadata": {},
   "outputs": [],
   "source": [
    "# minder dan 100.000 installs en minstens 10 ratings\n",
    "df = df[(df['Maximum Installs'] < 100000) & (df['Rating Count'] >= 10)]"
   ]
  },
  {
   "cell_type": "code",
   "execution_count": 97,
   "metadata": {},
   "outputs": [
    {
     "data": {
      "text/plain": [
       "Cool App      292342\n",
       "Sexy App      280900\n",
       "Bad App Yo    232780\n",
       "Name: Rating Bin, dtype: int64"
      ]
     },
     "execution_count": 97,
     "metadata": {},
     "output_type": "execute_result"
    }
   ],
   "source": [
    "df['Rating Bin'].value_counts()"
   ]
  },
  {
   "cell_type": "code",
   "execution_count": 98,
   "metadata": {},
   "outputs": [
    {
     "data": {
      "text/plain": [
       "1                      Other\n",
       "6                      Other\n",
       "7          Personal & Social\n",
       "9          Personal & Social\n",
       "10             Entertainment\n",
       "                 ...        \n",
       "2312909          Development\n",
       "2312918        Entertainment\n",
       "2312929        Entertainment\n",
       "2312938          Development\n",
       "2312943        Entertainment\n",
       "Name: New Category, Length: 806022, dtype: category\n",
       "Categories (4, object): ['Development', 'Entertainment', 'Other', 'Personal & Social']"
      ]
     },
     "execution_count": 98,
     "metadata": {},
     "output_type": "execute_result"
    }
   ],
   "source": [
    "df['New Category']"
   ]
  },
  {
   "attachments": {},
   "cell_type": "markdown",
   "metadata": {},
   "source": [
    "**Code below is still in development**"
   ]
  },
  {
   "cell_type": "code",
   "execution_count": 127,
   "metadata": {},
   "outputs": [
    {
     "name": "stdout",
     "output_type": "stream",
     "text": [
      "Get column of categorical data\n"
     ]
    },
    {
     "ename": "AttributeError",
     "evalue": "'NoneType' object has no attribute 'head'",
     "output_type": "error",
     "traceback": [
      "\u001b[1;31m---------------------------------------------------------------------------\u001b[0m",
      "\u001b[1;31mAttributeError\u001b[0m                            Traceback (most recent call last)",
      "\u001b[1;32m~\\AppData\\Local\\Temp\\ipykernel_7700\\3052122541.py\u001b[0m in \u001b[0;36m<module>\u001b[1;34m\u001b[0m\n\u001b[0;32m      9\u001b[0m \u001b[1;33m\u001b[0m\u001b[0m\n\u001b[0;32m     10\u001b[0m \u001b[0mcategories\u001b[0m \u001b[1;33m=\u001b[0m \u001b[0mprepare_inputs\u001b[0m\u001b[1;33m(\u001b[0m\u001b[0msklearn\u001b[0m\u001b[1;33m.\u001b[0m\u001b[0mpreprocessing\u001b[0m\u001b[1;33m.\u001b[0m\u001b[0mOneHotEncoder\u001b[0m\u001b[1;33m(\u001b[0m\u001b[1;33m)\u001b[0m\u001b[1;33m,\u001b[0m \u001b[1;34m'Rating Bin'\u001b[0m\u001b[1;33m)\u001b[0m\u001b[1;33m\u001b[0m\u001b[1;33m\u001b[0m\u001b[0m\n\u001b[1;32m---> 11\u001b[1;33m \u001b[0mcategories\u001b[0m\u001b[1;33m.\u001b[0m\u001b[0mhead\u001b[0m\u001b[1;33m(\u001b[0m\u001b[1;33m)\u001b[0m\u001b[1;33m\u001b[0m\u001b[1;33m\u001b[0m\u001b[0m\n\u001b[0m",
      "\u001b[1;31mAttributeError\u001b[0m: 'NoneType' object has no attribute 'head'"
     ]
    }
   ],
   "source": [
    "def prepare_inputs(encoder_type, feature):\n",
    "    try:\n",
    "        ohe = encoder_type\n",
    "        new_df = df.join(pd.DataFrame(ohe.fit_transform(df[[feature]])).toarray())\n",
    "        return new_df\n",
    "    except:\n",
    "        print(\"Get column of categorical data\")\n",
    "    \n",
    "categories = prepare_inputs(sklearn.preprocessing.OneHotEncoder(), 'Rating Bin')\n",
    "categories.head()"
   ]
  },
  {
   "cell_type": "code",
   "execution_count": 124,
   "metadata": {},
   "outputs": [
    {
     "data": {
      "text/html": [
       "<div>\n",
       "<style scoped>\n",
       "    .dataframe tbody tr th:only-of-type {\n",
       "        vertical-align: middle;\n",
       "    }\n",
       "\n",
       "    .dataframe tbody tr th {\n",
       "        vertical-align: top;\n",
       "    }\n",
       "\n",
       "    .dataframe thead th {\n",
       "        text-align: right;\n",
       "    }\n",
       "</style>\n",
       "<table border=\"1\" class=\"dataframe\">\n",
       "  <thead>\n",
       "    <tr style=\"text-align: right;\">\n",
       "      <th></th>\n",
       "      <th>App Id</th>\n",
       "      <th>Category</th>\n",
       "      <th>Rating</th>\n",
       "      <th>Rating Count</th>\n",
       "      <th>Maximum Installs</th>\n",
       "      <th>Free</th>\n",
       "      <th>Price</th>\n",
       "      <th>Last Updated</th>\n",
       "      <th>Ad Supported</th>\n",
       "      <th>In App Purchases</th>\n",
       "      <th>New Category</th>\n",
       "      <th>Rating Bin 2</th>\n",
       "      <th>Rating Bin</th>\n",
       "    </tr>\n",
       "  </thead>\n",
       "  <tbody>\n",
       "    <tr>\n",
       "      <th>1</th>\n",
       "      <td>com.webserveis.batteryinfo</td>\n",
       "      <td>Tools</td>\n",
       "      <td>4.4</td>\n",
       "      <td>64.0</td>\n",
       "      <td>7662</td>\n",
       "      <td>True</td>\n",
       "      <td>0.0</td>\n",
       "      <td>May 06, 2021</td>\n",
       "      <td>True</td>\n",
       "      <td>False</td>\n",
       "      <td>Other</td>\n",
       "      <td>Cool App</td>\n",
       "      <td>2</td>\n",
       "    </tr>\n",
       "    <tr>\n",
       "      <th>6</th>\n",
       "      <td>getfreedata.superfatiza.unlimitedjiodataprank</td>\n",
       "      <td>Libraries &amp; Demo</td>\n",
       "      <td>4.5</td>\n",
       "      <td>12.0</td>\n",
       "      <td>2567</td>\n",
       "      <td>True</td>\n",
       "      <td>0.0</td>\n",
       "      <td>Sep 27, 2019</td>\n",
       "      <td>True</td>\n",
       "      <td>False</td>\n",
       "      <td>Other</td>\n",
       "      <td>Cool App</td>\n",
       "      <td>3</td>\n",
       "    </tr>\n",
       "    <tr>\n",
       "      <th>7</th>\n",
       "      <td>com.mozaix.simoneboard</td>\n",
       "      <td>Lifestyle</td>\n",
       "      <td>2.0</td>\n",
       "      <td>39.0</td>\n",
       "      <td>702</td>\n",
       "      <td>True</td>\n",
       "      <td>0.0</td>\n",
       "      <td>Jun 21, 2019</td>\n",
       "      <td>False</td>\n",
       "      <td>False</td>\n",
       "      <td>Personal &amp; Social</td>\n",
       "      <td>Bad App Yo</td>\n",
       "      <td>1</td>\n",
       "    </tr>\n",
       "    <tr>\n",
       "      <th>9</th>\n",
       "      <td>com.ikeyboard.theme.neon_3d.iron.tech</td>\n",
       "      <td>Personalization</td>\n",
       "      <td>4.7</td>\n",
       "      <td>820.0</td>\n",
       "      <td>62433</td>\n",
       "      <td>True</td>\n",
       "      <td>0.0</td>\n",
       "      <td>Oct 07, 2020</td>\n",
       "      <td>True</td>\n",
       "      <td>False</td>\n",
       "      <td>Personal &amp; Social</td>\n",
       "      <td>Sexy App</td>\n",
       "      <td>3</td>\n",
       "    </tr>\n",
       "    <tr>\n",
       "      <th>10</th>\n",
       "      <td>com.MrScratchEnterprises.CarDogeGame</td>\n",
       "      <td>Racing</td>\n",
       "      <td>4.9</td>\n",
       "      <td>55.0</td>\n",
       "      <td>329</td>\n",
       "      <td>True</td>\n",
       "      <td>0.0</td>\n",
       "      <td>Jul 30, 2020</td>\n",
       "      <td>False</td>\n",
       "      <td>False</td>\n",
       "      <td>Entertainment</td>\n",
       "      <td>Sexy App</td>\n",
       "      <td>3</td>\n",
       "    </tr>\n",
       "  </tbody>\n",
       "</table>\n",
       "</div>"
      ],
      "text/plain": [
       "                                           App Id          Category  Rating  \\\n",
       "1                      com.webserveis.batteryinfo             Tools     4.4   \n",
       "6   getfreedata.superfatiza.unlimitedjiodataprank  Libraries & Demo     4.5   \n",
       "7                          com.mozaix.simoneboard         Lifestyle     2.0   \n",
       "9           com.ikeyboard.theme.neon_3d.iron.tech   Personalization     4.7   \n",
       "10           com.MrScratchEnterprises.CarDogeGame            Racing     4.9   \n",
       "\n",
       "    Rating Count  Maximum Installs  Free  Price  Last Updated  Ad Supported  \\\n",
       "1           64.0              7662  True    0.0  May 06, 2021          True   \n",
       "6           12.0              2567  True    0.0  Sep 27, 2019          True   \n",
       "7           39.0               702  True    0.0  Jun 21, 2019         False   \n",
       "9          820.0             62433  True    0.0  Oct 07, 2020          True   \n",
       "10          55.0               329  True    0.0  Jul 30, 2020         False   \n",
       "\n",
       "    In App Purchases       New Category Rating Bin 2 Rating Bin  \n",
       "1              False              Other     Cool App          2  \n",
       "6              False              Other     Cool App          3  \n",
       "7              False  Personal & Social   Bad App Yo          1  \n",
       "9              False  Personal & Social     Sexy App          3  \n",
       "10             False      Entertainment     Sexy App          3  "
      ]
     },
     "execution_count": 124,
     "metadata": {},
     "output_type": "execute_result"
    }
   ],
   "source": [
    "df.head()"
   ]
  },
  {
   "cell_type": "code",
   "execution_count": 110,
   "metadata": {},
   "outputs": [
    {
     "name": "stdout",
     "output_type": "stream",
     "text": [
      "a\n",
      "Get column of categorical data\n"
     ]
    }
   ],
   "source": [
    "categories = prepare_inputs(sklearn.preprocessing.OneHotEncoder(), df['New Category'])"
   ]
  },
  {
   "cell_type": "code",
   "execution_count": 91,
   "metadata": {},
   "outputs": [],
   "source": [
    "# df.to_parquet('Google-Playstore-Modified.parquet')"
   ]
  }
 ],
 "metadata": {
  "kernelspec": {
   "display_name": "base",
   "language": "python",
   "name": "python3"
  },
  "language_info": {
   "codemirror_mode": {
    "name": "ipython",
    "version": 3
   },
   "file_extension": ".py",
   "mimetype": "text/x-python",
   "name": "python",
   "nbconvert_exporter": "python",
   "pygments_lexer": "ipython3",
   "version": "3.9.13"
  },
  "orig_nbformat": 4,
  "vscode": {
   "interpreter": {
    "hash": "ad2bdc8ecc057115af97d19610ffacc2b4e99fae6737bb82f5d7fb13d2f2c186"
   }
  }
 },
 "nbformat": 4,
 "nbformat_minor": 2
}
