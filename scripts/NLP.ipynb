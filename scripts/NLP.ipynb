{
 "cells": [
  {
   "attachments": {},
   "cell_type": "markdown",
   "metadata": {},
   "source": [
    "Goal of this notebook is to apply natural language processing (NLP) on the app names, to predict rating bin.\n",
    "For inspiration the nlp chapter of the udemy course was used."
   ]
  },
  {
   "cell_type": "code",
   "execution_count": 109,
   "metadata": {},
   "outputs": [],
   "source": [
    "import nltk\n",
    "import os\n",
    "import pandas as pd\n",
    "import seaborn as sns\n",
    "import string\n",
    "from nltk.corpus import stopwords\n",
    "from sklearn.model_selection import train_test_split\n",
    "import matplotlib.pyplot as plt\n",
    "import matplotlib.transforms as mtransforms"
   ]
  },
  {
   "cell_type": "code",
   "execution_count": 16,
   "metadata": {},
   "outputs": [
    {
     "name": "stderr",
     "output_type": "stream",
     "text": [
      "[nltk_data] Downloading collection 'popular'\n",
      "[nltk_data]    | \n",
      "[nltk_data]    | Downloading package cmudict to C:\\Users\\~LarsSpekscho\n",
      "[nltk_data]    |     orTrain\\AppData\\Roaming\\nltk_data...\n",
      "[nltk_data]    |   Package cmudict is already up-to-date!\n",
      "[nltk_data]    | Downloading package gazetteers to C:\\Users\\~LarsSpeks\n",
      "[nltk_data]    |     choorTrain\\AppData\\Roaming\\nltk_data...\n",
      "[nltk_data]    |   Package gazetteers is already up-to-date!\n",
      "[nltk_data]    | Downloading package genesis to C:\\Users\\~LarsSpekscho\n",
      "[nltk_data]    |     orTrain\\AppData\\Roaming\\nltk_data...\n",
      "[nltk_data]    |   Package genesis is already up-to-date!\n",
      "[nltk_data]    | Downloading package gutenberg to C:\\Users\\~LarsSpeksc\n",
      "[nltk_data]    |     hoorTrain\\AppData\\Roaming\\nltk_data...\n",
      "[nltk_data]    |   Package gutenberg is already up-to-date!\n",
      "[nltk_data]    | Downloading package inaugural to C:\\Users\\~LarsSpeksc\n",
      "[nltk_data]    |     hoorTrain\\AppData\\Roaming\\nltk_data...\n",
      "[nltk_data]    |   Package inaugural is already up-to-date!\n",
      "[nltk_data]    | Downloading package movie_reviews to C:\\Users\\~LarsSp\n",
      "[nltk_data]    |     ekschoorTrain\\AppData\\Roaming\\nltk_data...\n",
      "[nltk_data]    |   Package movie_reviews is already up-to-date!\n",
      "[nltk_data]    | Downloading package names to C:\\Users\\~LarsSpekschoor\n",
      "[nltk_data]    |     Train\\AppData\\Roaming\\nltk_data...\n",
      "[nltk_data]    |   Package names is already up-to-date!\n",
      "[nltk_data]    | Downloading package shakespeare to C:\\Users\\~LarsSpek\n",
      "[nltk_data]    |     schoorTrain\\AppData\\Roaming\\nltk_data...\n",
      "[nltk_data]    |   Package shakespeare is already up-to-date!\n",
      "[nltk_data]    | Downloading package stopwords to C:\\Users\\~LarsSpeksc\n",
      "[nltk_data]    |     hoorTrain\\AppData\\Roaming\\nltk_data...\n",
      "[nltk_data]    |   Package stopwords is already up-to-date!\n",
      "[nltk_data]    | Downloading package treebank to C:\\Users\\~LarsSpeksch\n",
      "[nltk_data]    |     oorTrain\\AppData\\Roaming\\nltk_data...\n",
      "[nltk_data]    |   Package treebank is already up-to-date!\n",
      "[nltk_data]    | Downloading package twitter_samples to C:\\Users\\~Lars\n",
      "[nltk_data]    |     SpekschoorTrain\\AppData\\Roaming\\nltk_data...\n",
      "[nltk_data]    |   Package twitter_samples is already up-to-date!\n",
      "[nltk_data]    | Downloading package omw to C:\\Users\\~LarsSpekschoorTr\n",
      "[nltk_data]    |     ain\\AppData\\Roaming\\nltk_data...\n",
      "[nltk_data]    |   Package omw is already up-to-date!\n",
      "[nltk_data]    | Downloading package omw-1.4 to C:\\Users\\~LarsSpekscho\n",
      "[nltk_data]    |     orTrain\\AppData\\Roaming\\nltk_data...\n",
      "[nltk_data]    |   Package omw-1.4 is already up-to-date!\n",
      "[nltk_data]    | Downloading package wordnet to C:\\Users\\~LarsSpekscho\n",
      "[nltk_data]    |     orTrain\\AppData\\Roaming\\nltk_data...\n",
      "[nltk_data]    |   Package wordnet is already up-to-date!\n",
      "[nltk_data]    | Downloading package wordnet2021 to C:\\Users\\~LarsSpek\n",
      "[nltk_data]    |     schoorTrain\\AppData\\Roaming\\nltk_data...\n",
      "[nltk_data]    |   Package wordnet2021 is already up-to-date!\n",
      "[nltk_data]    | Downloading package wordnet31 to C:\\Users\\~LarsSpeksc\n",
      "[nltk_data]    |     hoorTrain\\AppData\\Roaming\\nltk_data...\n",
      "[nltk_data]    |   Package wordnet31 is already up-to-date!\n",
      "[nltk_data]    | Downloading package wordnet_ic to C:\\Users\\~LarsSpeks\n",
      "[nltk_data]    |     choorTrain\\AppData\\Roaming\\nltk_data...\n",
      "[nltk_data]    |   Package wordnet_ic is already up-to-date!\n",
      "[nltk_data]    | Downloading package words to C:\\Users\\~LarsSpekschoor\n",
      "[nltk_data]    |     Train\\AppData\\Roaming\\nltk_data...\n",
      "[nltk_data]    |   Package words is already up-to-date!\n",
      "[nltk_data]    | Downloading package maxent_ne_chunker to C:\\Users\\~La\n",
      "[nltk_data]    |     rsSpekschoorTrain\\AppData\\Roaming\\nltk_data...\n",
      "[nltk_data]    |   Package maxent_ne_chunker is already up-to-date!\n",
      "[nltk_data]    | Downloading package punkt to C:\\Users\\~LarsSpekschoor\n",
      "[nltk_data]    |     Train\\AppData\\Roaming\\nltk_data...\n",
      "[nltk_data]    |   Package punkt is already up-to-date!\n",
      "[nltk_data]    | Downloading package snowball_data to C:\\Users\\~LarsSp\n",
      "[nltk_data]    |     ekschoorTrain\\AppData\\Roaming\\nltk_data...\n",
      "[nltk_data]    |   Package snowball_data is already up-to-date!\n",
      "[nltk_data]    | Downloading package averaged_perceptron_tagger to C:\\\n",
      "[nltk_data]    |     Users\\~LarsSpekschoorTrain\\AppData\\Roaming\\nltk_d\n",
      "[nltk_data]    |     ata...\n",
      "[nltk_data]    |   Package averaged_perceptron_tagger is already up-\n",
      "[nltk_data]    |       to-date!\n",
      "[nltk_data]    | \n",
      "[nltk_data]  Done downloading collection popular\n"
     ]
    },
    {
     "data": {
      "text/plain": [
       "True"
      ]
     },
     "execution_count": 16,
     "metadata": {},
     "output_type": "execute_result"
    }
   ],
   "source": [
    "nltk.download('popular')"
   ]
  },
  {
   "cell_type": "code",
   "execution_count": 17,
   "metadata": {},
   "outputs": [],
   "source": [
    "# Data source: https://www.kaggle.com/datasets/gauthamp10/google-playstore-apps\n",
    "path = os.getcwd() + \"/../data/Google-Playstore-Modified.parquet\"\n",
    "df = pd.read_parquet(path, engine='fastparquet')"
   ]
  },
  {
   "cell_type": "code",
   "execution_count": 18,
   "metadata": {},
   "outputs": [],
   "source": [
    "#Temporarily add back Rating Bin\n",
    "df['Rating Bin'] = (df[['Moderate', 'Superb', 'Bad App Yo']]==1).idxmax(1)"
   ]
  },
  {
   "cell_type": "code",
   "execution_count": 19,
   "metadata": {},
   "outputs": [
    {
     "data": {
      "text/html": [
       "<div>\n",
       "<style scoped>\n",
       "    .dataframe tbody tr th:only-of-type {\n",
       "        vertical-align: middle;\n",
       "    }\n",
       "\n",
       "    .dataframe tbody tr th {\n",
       "        vertical-align: top;\n",
       "    }\n",
       "\n",
       "    .dataframe thead th {\n",
       "        text-align: right;\n",
       "    }\n",
       "</style>\n",
       "<table border=\"1\" class=\"dataframe\">\n",
       "  <thead>\n",
       "    <tr style=\"text-align: right;\">\n",
       "      <th></th>\n",
       "      <th>App Name</th>\n",
       "      <th>App Id</th>\n",
       "      <th>Rating Count</th>\n",
       "      <th>Maximum Installs</th>\n",
       "      <th>Free</th>\n",
       "      <th>Price</th>\n",
       "      <th>Ad Supported</th>\n",
       "      <th>In App Purchases</th>\n",
       "      <th>Name Length</th>\n",
       "      <th>Size Cat</th>\n",
       "      <th>Time since last update</th>\n",
       "      <th>Days Release to Last Update</th>\n",
       "      <th>log10 Maximum Installs</th>\n",
       "      <th>Moderate</th>\n",
       "      <th>Superb</th>\n",
       "      <th>Bad App Yo</th>\n",
       "      <th>Personal &amp; Social</th>\n",
       "      <th>Entertainment</th>\n",
       "      <th>Development</th>\n",
       "      <th>Rating Bin</th>\n",
       "    </tr>\n",
       "  </thead>\n",
       "  <tbody>\n",
       "    <tr>\n",
       "      <th>0</th>\n",
       "      <td>Ampere Battery Info</td>\n",
       "      <td>com.webserveis.batteryinfo</td>\n",
       "      <td>64</td>\n",
       "      <td>7662</td>\n",
       "      <td>True</td>\n",
       "      <td>0.0</td>\n",
       "      <td>True</td>\n",
       "      <td>False</td>\n",
       "      <td>19</td>\n",
       "      <td>Known</td>\n",
       "      <td>0</td>\n",
       "      <td>350.0</td>\n",
       "      <td>3.884342</td>\n",
       "      <td>0</td>\n",
       "      <td>1</td>\n",
       "      <td>0</td>\n",
       "      <td>0</td>\n",
       "      <td>1</td>\n",
       "      <td>0</td>\n",
       "      <td>Superb</td>\n",
       "    </tr>\n",
       "    <tr>\n",
       "      <th>1</th>\n",
       "      <td>unlimited 4G data prank free app</td>\n",
       "      <td>getfreedata.superfatiza.unlimitedjiodataprank</td>\n",
       "      <td>12</td>\n",
       "      <td>2567</td>\n",
       "      <td>True</td>\n",
       "      <td>0.0</td>\n",
       "      <td>True</td>\n",
       "      <td>False</td>\n",
       "      <td>32</td>\n",
       "      <td>Known</td>\n",
       "      <td>2</td>\n",
       "      <td>4.0</td>\n",
       "      <td>3.409426</td>\n",
       "      <td>0</td>\n",
       "      <td>0</td>\n",
       "      <td>1</td>\n",
       "      <td>0</td>\n",
       "      <td>1</td>\n",
       "      <td>0</td>\n",
       "      <td>Bad App Yo</td>\n",
       "    </tr>\n",
       "    <tr>\n",
       "      <th>2</th>\n",
       "      <td>The Everyday Calendar</td>\n",
       "      <td>com.mozaix.simoneboard</td>\n",
       "      <td>39</td>\n",
       "      <td>702</td>\n",
       "      <td>True</td>\n",
       "      <td>0.0</td>\n",
       "      <td>False</td>\n",
       "      <td>False</td>\n",
       "      <td>21</td>\n",
       "      <td>Known</td>\n",
       "      <td>2</td>\n",
       "      <td>0.0</td>\n",
       "      <td>2.846337</td>\n",
       "      <td>1</td>\n",
       "      <td>0</td>\n",
       "      <td>0</td>\n",
       "      <td>0</td>\n",
       "      <td>0</td>\n",
       "      <td>1</td>\n",
       "      <td>Moderate</td>\n",
       "    </tr>\n",
       "    <tr>\n",
       "      <th>3</th>\n",
       "      <td>Neon 3d Iron Tech Keyboard Theme</td>\n",
       "      <td>com.ikeyboard.theme.neon_3d.iron.tech</td>\n",
       "      <td>820</td>\n",
       "      <td>62433</td>\n",
       "      <td>True</td>\n",
       "      <td>0.0</td>\n",
       "      <td>True</td>\n",
       "      <td>False</td>\n",
       "      <td>32</td>\n",
       "      <td>Known</td>\n",
       "      <td>1</td>\n",
       "      <td>381.0</td>\n",
       "      <td>4.795414</td>\n",
       "      <td>0</td>\n",
       "      <td>0</td>\n",
       "      <td>1</td>\n",
       "      <td>0</td>\n",
       "      <td>0</td>\n",
       "      <td>1</td>\n",
       "      <td>Bad App Yo</td>\n",
       "    </tr>\n",
       "    <tr>\n",
       "      <th>4</th>\n",
       "      <td>Dodge The Cars!</td>\n",
       "      <td>com.MrScratchEnterprises.CarDogeGame</td>\n",
       "      <td>55</td>\n",
       "      <td>329</td>\n",
       "      <td>True</td>\n",
       "      <td>0.0</td>\n",
       "      <td>False</td>\n",
       "      <td>False</td>\n",
       "      <td>15</td>\n",
       "      <td>Known</td>\n",
       "      <td>1</td>\n",
       "      <td>0.0</td>\n",
       "      <td>2.517196</td>\n",
       "      <td>0</td>\n",
       "      <td>0</td>\n",
       "      <td>1</td>\n",
       "      <td>1</td>\n",
       "      <td>0</td>\n",
       "      <td>0</td>\n",
       "      <td>Bad App Yo</td>\n",
       "    </tr>\n",
       "  </tbody>\n",
       "</table>\n",
       "</div>"
      ],
      "text/plain": [
       "                           App Name  \\\n",
       "0               Ampere Battery Info   \n",
       "1  unlimited 4G data prank free app   \n",
       "2             The Everyday Calendar   \n",
       "3  Neon 3d Iron Tech Keyboard Theme   \n",
       "4                   Dodge The Cars!   \n",
       "\n",
       "                                          App Id  Rating Count  \\\n",
       "0                     com.webserveis.batteryinfo            64   \n",
       "1  getfreedata.superfatiza.unlimitedjiodataprank            12   \n",
       "2                         com.mozaix.simoneboard            39   \n",
       "3          com.ikeyboard.theme.neon_3d.iron.tech           820   \n",
       "4           com.MrScratchEnterprises.CarDogeGame            55   \n",
       "\n",
       "   Maximum Installs  Free  Price  Ad Supported  In App Purchases  Name Length  \\\n",
       "0              7662  True    0.0          True             False           19   \n",
       "1              2567  True    0.0          True             False           32   \n",
       "2               702  True    0.0         False             False           21   \n",
       "3             62433  True    0.0          True             False           32   \n",
       "4               329  True    0.0         False             False           15   \n",
       "\n",
       "  Size Cat  Time since last update  Days Release to Last Update  \\\n",
       "0    Known                       0                        350.0   \n",
       "1    Known                       2                          4.0   \n",
       "2    Known                       2                          0.0   \n",
       "3    Known                       1                        381.0   \n",
       "4    Known                       1                          0.0   \n",
       "\n",
       "   log10 Maximum Installs  Moderate  Superb  Bad App Yo  Personal & Social  \\\n",
       "0                3.884342         0       1           0                  0   \n",
       "1                3.409426         0       0           1                  0   \n",
       "2                2.846337         1       0           0                  0   \n",
       "3                4.795414         0       0           1                  0   \n",
       "4                2.517196         0       0           1                  1   \n",
       "\n",
       "   Entertainment  Development  Rating Bin  \n",
       "0              1            0      Superb  \n",
       "1              1            0  Bad App Yo  \n",
       "2              0            1    Moderate  \n",
       "3              0            1  Bad App Yo  \n",
       "4              0            0  Bad App Yo  "
      ]
     },
     "execution_count": 19,
     "metadata": {},
     "output_type": "execute_result"
    }
   ],
   "source": [
    "df.head()"
   ]
  },
  {
   "cell_type": "code",
   "execution_count": 20,
   "metadata": {},
   "outputs": [
    {
     "data": {
      "text/html": [
       "<div>\n",
       "<style scoped>\n",
       "    .dataframe tbody tr th:only-of-type {\n",
       "        vertical-align: middle;\n",
       "    }\n",
       "\n",
       "    .dataframe tbody tr th {\n",
       "        vertical-align: top;\n",
       "    }\n",
       "\n",
       "    .dataframe thead tr th {\n",
       "        text-align: left;\n",
       "    }\n",
       "\n",
       "    .dataframe thead tr:last-of-type th {\n",
       "        text-align: right;\n",
       "    }\n",
       "</style>\n",
       "<table border=\"1\" class=\"dataframe\">\n",
       "  <thead>\n",
       "    <tr>\n",
       "      <th></th>\n",
       "      <th colspan=\"8\" halign=\"left\">Name Length</th>\n",
       "    </tr>\n",
       "    <tr>\n",
       "      <th></th>\n",
       "      <th>count</th>\n",
       "      <th>mean</th>\n",
       "      <th>std</th>\n",
       "      <th>min</th>\n",
       "      <th>25%</th>\n",
       "      <th>50%</th>\n",
       "      <th>75%</th>\n",
       "      <th>max</th>\n",
       "    </tr>\n",
       "    <tr>\n",
       "      <th>Rating Bin</th>\n",
       "      <th></th>\n",
       "      <th></th>\n",
       "      <th></th>\n",
       "      <th></th>\n",
       "      <th></th>\n",
       "      <th></th>\n",
       "      <th></th>\n",
       "      <th></th>\n",
       "    </tr>\n",
       "  </thead>\n",
       "  <tbody>\n",
       "    <tr>\n",
       "      <th>Bad App Yo</th>\n",
       "      <td>224522.0</td>\n",
       "      <td>22.927989</td>\n",
       "      <td>12.497703</td>\n",
       "      <td>2.0</td>\n",
       "      <td>13.0</td>\n",
       "      <td>20.0</td>\n",
       "      <td>30.0</td>\n",
       "      <td>50.0</td>\n",
       "    </tr>\n",
       "    <tr>\n",
       "      <th>Moderate</th>\n",
       "      <td>211815.0</td>\n",
       "      <td>22.287874</td>\n",
       "      <td>12.214851</td>\n",
       "      <td>1.0</td>\n",
       "      <td>12.0</td>\n",
       "      <td>20.0</td>\n",
       "      <td>29.0</td>\n",
       "      <td>50.0</td>\n",
       "    </tr>\n",
       "    <tr>\n",
       "      <th>Superb</th>\n",
       "      <td>202693.0</td>\n",
       "      <td>24.272629</td>\n",
       "      <td>12.320773</td>\n",
       "      <td>1.0</td>\n",
       "      <td>14.0</td>\n",
       "      <td>22.0</td>\n",
       "      <td>31.0</td>\n",
       "      <td>50.0</td>\n",
       "    </tr>\n",
       "  </tbody>\n",
       "</table>\n",
       "</div>"
      ],
      "text/plain": [
       "           Name Length                                                   \n",
       "                 count       mean        std  min   25%   50%   75%   max\n",
       "Rating Bin                                                               \n",
       "Bad App Yo    224522.0  22.927989  12.497703  2.0  13.0  20.0  30.0  50.0\n",
       "Moderate      211815.0  22.287874  12.214851  1.0  12.0  20.0  29.0  50.0\n",
       "Superb        202693.0  24.272629  12.320773  1.0  14.0  22.0  31.0  50.0"
      ]
     },
     "execution_count": 20,
     "metadata": {},
     "output_type": "execute_result"
    }
   ],
   "source": [
    "#Next two lines were moved to feature engineering\n",
    "#df['App Name'] = df['App Name'].apply(str)\n",
    "#df['Name Name Length'] = df['App Name'].apply(len)\n",
    "df = df[['App Name', 'Rating Bin', 'Name Length']]\n",
    "\n",
    "x_train, x_test, y_train, y_test = train_test_split(df[['App Name', 'Name Length']], df['Rating Bin'], test_size=0.1, random_state=123)\n",
    "x_train, x_val, y_train, y_val = train_test_split(x_train, y_train, test_size=0.1, random_state=123)\n",
    "\n",
    "df_train = pd.concat([x_train, y_train], axis=1)\n",
    "df_val = pd.concat([x_val, y_val], axis=1)\n",
    "df_test = pd.concat([x_test, y_test], axis=1)\n",
    "\n",
    "df_train.groupby('Rating Bin').describe()"
   ]
  },
  {
   "cell_type": "code",
   "execution_count": 21,
   "metadata": {},
   "outputs": [
    {
     "data": {
      "text/plain": [
       "pandas.core.series.Series"
      ]
     },
     "execution_count": 21,
     "metadata": {},
     "output_type": "execute_result"
    }
   ],
   "source": [
    "type(y_train)"
   ]
  },
  {
   "cell_type": "code",
   "execution_count": 22,
   "metadata": {},
   "outputs": [],
   "source": [
    "from matplotlib.cm import get_cmap\n",
    "cmap = get_cmap('tab20c')\n",
    "palette = {'Bad App Yo':cmap(0), 'Moderate':cmap(16), 'Superb':cmap(4)}"
   ]
  },
  {
   "attachments": {},
   "cell_type": "markdown",
   "metadata": {},
   "source": [
    "How is the Name Length of app name distributed?"
   ]
  },
  {
   "cell_type": "code",
   "execution_count": 23,
   "metadata": {},
   "outputs": [
    {
     "data": {
      "image/png": "[encoded data removed]",
      "text/plain": [
       "<Figure size 1000x400 with 2 Axes>"
      ]
     },
     "metadata": {},
     "output_type": "display_data"
    }
   ],
   "source": [
    "fig, axs = plt.subplots(1,2, figsize=(10, 4), constrained_layout=True)\n",
    "sns.histplot(x = df_train['Name Length'], bins=50, ax=axs[0])\n",
    "sns.kdeplot(x = df_train['Name Length'], hue=df_train['Rating Bin'], palette=palette, ax=axs[1])\n",
    "#From: https://discourse.matplotlib.org/t/how-to-save-subplots-separately/22657/2\n",
    "fig.savefig(\n",
    "    \"../outputs/figures/Name Length counts all.png\",\n",
    "    # we need a bounding box in inches\n",
    "    bbox_inches=mtransforms.Bbox(\n",
    "        # This is in \"figure fraction\" for the bottom half\n",
    "        # input in [[xmin, ymin], [xmax, ymax]]\n",
    "        [[0, 0], [0.5, 1]]\n",
    "    ).transformed(\n",
    "        # this take data from figure fraction -> inches\n",
    "        #    transFigrue goes from figure fraction -> pixels\n",
    "        #    dpi_scale_trans goes from inches -> pixels\n",
    "        (fig.transFigure - fig.dpi_scale_trans)\n",
    "    ),\n",
    ")\n",
    "fig.savefig(\n",
    "    \"../outputs/figures/Name Length kde by Rating Bin.png\",\n",
    "    # we need a bounding box in inches\n",
    "    bbox_inches=mtransforms.Bbox(\n",
    "        # This is in \"figure fraction\" for the bottom half\n",
    "        # input in [[xmin, ymin], [xmax, ymax]]\n",
    "        [[0.5, 0], [1, 1]]\n",
    "    ).transformed(\n",
    "        # this take data from figure fraction -> inches\n",
    "        #    transFigrue goes from figure fraction -> pixels\n",
    "        #    dpi_scale_trans goes from inches -> pixels\n",
    "        (fig.transFigure - fig.dpi_scale_trans)\n",
    "    ),\n",
    ")\n"
   ]
  },
  {
   "attachments": {},
   "cell_type": "markdown",
   "metadata": {},
   "source": [
    "Is there something off about the longer app names?\n",
    "Yes, there are many apps with length 30 or 50, because these represent a new and old maximum length set by Google resp.\n",
    "App names do not appear truncated, suggesting developers are actively trying to fit their name within the limits."
   ]
  },
  {
   "cell_type": "code",
   "execution_count": 24,
   "metadata": {},
   "outputs": [
    {
     "data": {
      "text/plain": [
       "['Lagu BTS Offline Dan Lirik Full Album Terbaru 2021',\n",
       " 'BeshiDeshi - Market place for Bangladeshi products',\n",
       " 'Rakesh Yadav Class Notes of Maths in Hindi Offline',\n",
       " 'Kingdom Battle - Rise of the Mercenary King (Idle)',\n",
       " 'Simply Minimal HD Watch Face Widget Live Wallpaper',\n",
       " 'Islamic Color Number by Number Tap.Paint by Number',\n",
       " 'XenonShop: Create Online Store Free, Business Easy',\n",
       " 'Racing Car Mission Games 3d Real Simulator Driving',\n",
       " '植物 写真 名前 調べる ～図鑑アプリ 観葉植物 サボテンの花 インテリア 多肉 花 ガーデニング～',\n",
       " 'Sarkari Result - Government Job Alert by Rojgartak',\n",
       " 'Gujarat RTO Vehicle info -About vehicle owner info',\n",
       " 'Pakistan Independence Day:14 Aug Flag Photo Editor',\n",
       " 'Amharic Keyboard -Amharic Language Keyboard Typing',\n",
       " 'Compare Prize on Swiggy, Zomato(12+)Order Cheaper!',\n",
       " 'Hoy Madrid - Toda la agenda de Madrid a tu alcance',\n",
       " 'South African Dating App-African Singles Chat Free',\n",
       " 'How to create a PayPal Account guide/Ppl A/C guide',\n",
       " '10th Class Result 2020 | Check Matric Result Onlin',\n",
       " 'Eid Mubarak Photo Editor & Photo Frames Cards 2018',\n",
       " 'Blackriver Mystery: Hidden Object Adventure Puzzle']"
      ]
     },
     "execution_count": 24,
     "metadata": {},
     "output_type": "execute_result"
    }
   ],
   "source": [
    "list(df_train[df_train['Name Length'] == 50]['App Name'][:20])"
   ]
  },
  {
   "cell_type": "code",
   "execution_count": 25,
   "metadata": {},
   "outputs": [
    {
     "name": "stdout",
     "output_type": "stream",
     "text": [
      "!\"#$%&'()*+,-./:;<=>?@[\\]^_`{|}~\n",
      "['i', 'me', 'my', 'myself', 'we', 'our', 'ours', 'ourselves', 'you', \"you're\", \"you've\", \"you'll\", \"you'd\", 'your', 'yours', 'yourself', 'yourselves', 'he', 'him', 'his', 'himself', 'she', \"she's\", 'her', 'hers', 'herself', 'it', \"it's\", 'its', 'itself', 'they', 'them', 'their', 'theirs', 'themselves', 'what', 'which', 'who', 'whom', 'this', 'that', \"that'll\", 'these', 'those', 'am', 'is', 'are', 'was', 'were', 'be', 'been', 'being', 'have', 'has', 'had', 'having', 'do', 'does', 'did', 'doing', 'a', 'an', 'the', 'and', 'but', 'if', 'or', 'because', 'as', 'until', 'while', 'of', 'at', 'by', 'for', 'with', 'about', 'against', 'between', 'into', 'through', 'during', 'before', 'after', 'above', 'below', 'to', 'from', 'up', 'down', 'in', 'out', 'on', 'off', 'over', 'under', 'again', 'further', 'then', 'once', 'here', 'there', 'when', 'where', 'why', 'how', 'all', 'any', 'both', 'each', 'few', 'more', 'most', 'other', 'some', 'such', 'no', 'nor', 'not', 'only', 'own', 'same', 'so', 'than', 'too', 'very', 's', 't', 'can', 'will', 'just', 'don', \"don't\", 'should', \"should've\", 'now', 'd', 'll', 'm', 'o', 're', 've', 'y', 'ain', 'aren', \"aren't\", 'couldn', \"couldn't\", 'didn', \"didn't\", 'doesn', \"doesn't\", 'hadn', \"hadn't\", 'hasn', \"hasn't\", 'haven', \"haven't\", 'isn', \"isn't\", 'ma', 'mightn', \"mightn't\", 'mustn', \"mustn't\", 'needn', \"needn't\", 'shan', \"shan't\", 'shouldn', \"shouldn't\", 'wasn', \"wasn't\", 'weren', \"weren't\", 'won', \"won't\", 'wouldn', \"wouldn't\"]\n"
     ]
    },
    {
     "data": {
      "text/plain": [
       "771498                               [Creativas, Caratulas]\n",
       "71984         [Savior, Jesus, Christ, Keyboard, Background]\n",
       "29577                                     [عاملات, بالساعة]\n",
       "298725      [Account, Class11, Solutions, TS, Grewal, 2019]\n",
       "246211                                          [Top, Guns]\n",
       "586638    [Apprison, Digital, Wellbeing, Mobile, Addiction]\n",
       "188377                           [National, Park, Galicica]\n",
       "699380                                       [Masjid, near]\n",
       "42324                           [IC, NOTIFICATION, BLOCKER]\n",
       "509838                               [GCE, OL, Mathematics]\n",
       "Name: App Name, dtype: object"
      ]
     },
     "execution_count": 25,
     "metadata": {},
     "output_type": "execute_result"
    }
   ],
   "source": [
    "print(string.punctuation)\n",
    "print(stopwords.words('english'))\n",
    "\n",
    "def text_process(mess):\n",
    "    \"\"\"\n",
    "    1. remove punc\n",
    "    2. remove stop words\n",
    "    3. return list of clean text words\n",
    "    \"\"\"\n",
    "    nopunc = ''.join([c for c in mess if c not in string.punctuation])\n",
    "    clean_mess = [word for word in nopunc.split() if word.lower() not in stopwords.words('english')]\n",
    "    return clean_mess\n",
    "\n",
    "df_train['App Name'].head(10).apply(text_process)"
   ]
  },
  {
   "cell_type": "code",
   "execution_count": 26,
   "metadata": {},
   "outputs": [],
   "source": [
    "from sklearn.feature_extraction.text import CountVectorizer\n",
    "bow_transformer = CountVectorizer(analyzer=text_process).fit(df_train['App Name'])"
   ]
  },
  {
   "cell_type": "code",
   "execution_count": 27,
   "metadata": {},
   "outputs": [
    {
     "name": "stdout",
     "output_type": "stream",
     "text": [
      "Dataframe shape:  (639030, 3)\n",
      "Bow transformer vocabulary length:  370521\n"
     ]
    }
   ],
   "source": [
    "print('Dataframe shape: ', str(df_train.shape))\n",
    "print('Bow transformer vocabulary length: ', str(len(bow_transformer.vocabulary_)))"
   ]
  },
  {
   "cell_type": "code",
   "execution_count": 28,
   "metadata": {},
   "outputs": [],
   "source": [
    "names_bow = bow_transformer.transform(df_train['App Name'])"
   ]
  },
  {
   "attachments": {},
   "cell_type": "markdown",
   "metadata": {},
   "source": [
    "The code cell to make bar chart of most common words below has disappeared in VS Code :(\n",
    "It involved extracting the words as an array from the output of CountVectorizer.fit() (which is a 1 by x matrix I believe) and the counts from the .transform output.\n",
    "Combine these into a dataframe and sort on the counts."
   ]
  },
  {
   "cell_type": "code",
   "execution_count": 107,
   "metadata": {},
   "outputs": [
    {
     "data": {
      "text/plain": [
       "<AxesSubplot: xlabel='Count', ylabel='Word'>"
      ]
     },
     "execution_count": 107,
     "metadata": {},
     "output_type": "execute_result"
    },
    {
     "data": {
      "image/png": "[encoded data removed]",
      "text/plain": [
       "<Figure size 700x1000 with 1 Axes>"
      ]
     },
     "metadata": {},
     "output_type": "display_data"
    }
   ],
   "source": [
    "\n",
    "plt.figure(figsize=(7,10))\n",
    "ax = plt.gca()\n",
    "ax.grid(which='major', axis='both', linestyle='--')\n",
    "ax.set_axisbelow(True)\n",
    "ax.set(xlabel=None)\n",
    "sns.barplot(ax=ax, data=sorted_word_count_df.iloc[:30,], x='Count', y='Word', color='turquoise')\n"
   ]
  },
  {
   "cell_type": "code",
   "execution_count": 29,
   "metadata": {},
   "outputs": [
    {
     "name": "stdout",
     "output_type": "stream",
     "text": [
      "Shape of Sparse Matrix:  (639030, 370521)\n",
      "Non-zero occurances:  2116889\n",
      "sparsity: 0.0008940545374022966\n"
     ]
    }
   ],
   "source": [
    "print('Shape of Sparse Matrix: ', names_bow.shape)\n",
    "print('Non-zero occurances: ', names_bow.nnz)\n",
    "\n",
    "sparsity = (100.0 * names_bow.nnz / (names_bow.shape[0] * names_bow.shape[1]))\n",
    "print('sparsity: {}'.format(sparsity))"
   ]
  },
  {
   "cell_type": "code",
   "execution_count": 30,
   "metadata": {},
   "outputs": [],
   "source": [
    "from sklearn.feature_extraction.text import TfidfTransformer\n",
    "\n",
    "tfidf_transformer = TfidfTransformer().fit(names_bow)"
   ]
  },
  {
   "cell_type": "code",
   "execution_count": 31,
   "metadata": {},
   "outputs": [
    {
     "name": "stdout",
     "output_type": "stream",
     "text": [
      "(639030, 370521)\n"
     ]
    }
   ],
   "source": [
    "names_tfidf = tfidf_transformer.transform(names_bow)\n",
    "print(names_tfidf.shape)"
   ]
  },
  {
   "cell_type": "code",
   "execution_count": 110,
   "metadata": {},
   "outputs": [],
   "source": [
    "from sklearn.naive_bayes import MultinomialNB\n",
    "names_model = MultinomialNB().fit(names_tfidf, df_train['Rating Bin'])"
   ]
  },
  {
   "cell_type": "code",
   "execution_count": 112,
   "metadata": {},
   "outputs": [
    {
     "name": "stdout",
     "output_type": "stream",
     "text": [
      "              precision    recall  f1-score   support\n",
      "\n",
      "  Bad App Yo       0.74      0.73      0.74    224522\n",
      "    Moderate       0.69      0.76      0.73    211815\n",
      "      Superb       0.68      0.61      0.65    202693\n",
      "\n",
      "    accuracy                           0.71    639030\n",
      "   macro avg       0.70      0.70      0.70    639030\n",
      "weighted avg       0.71      0.71      0.70    639030\n",
      "\n"
     ]
    }
   ],
   "source": [
    "train_predictions = names_model.predict(names_tfidf)\n",
    "#test_predictions = names_model.predict(nam)\n",
    "\n",
    "from sklearn.metrics import classification_report\n",
    "print (classification_report(df_train['Rating Bin'], train_predictions))"
   ]
  },
  {
   "cell_type": "code",
   "execution_count": 111,
   "metadata": {},
   "outputs": [
    {
     "ename": "NameError",
     "evalue": "name 'classification_report' is not defined",
     "output_type": "error",
     "traceback": [
      "\u001b[1;31m---------------------------------------------------------------------------\u001b[0m",
      "\u001b[1;31mNameError\u001b[0m                                 Traceback (most recent call last)",
      "Cell \u001b[1;32mIn[111], line 12\u001b[0m\n\u001b[0;32m      9\u001b[0m pipeline\u001b[39m.\u001b[39mfit(df_train[\u001b[39m'\u001b[39m\u001b[39mApp Name\u001b[39m\u001b[39m'\u001b[39m], df_train[\u001b[39m'\u001b[39m\u001b[39mRating Bin\u001b[39m\u001b[39m'\u001b[39m])\n\u001b[0;32m     10\u001b[0m predictions \u001b[39m=\u001b[39m pipeline\u001b[39m.\u001b[39mpredict(df_test[\u001b[39m'\u001b[39m\u001b[39mApp Name\u001b[39m\u001b[39m'\u001b[39m])\n\u001b[1;32m---> 12\u001b[0m \u001b[39mprint\u001b[39m(classification_report(predictions, df_test[\u001b[39m'\u001b[39m\u001b[39mRating Bin\u001b[39m\u001b[39m'\u001b[39m]))\n",
      "\u001b[1;31mNameError\u001b[0m: name 'classification_report' is not defined"
     ]
    }
   ],
   "source": [
    "from sklearn.pipeline import Pipeline\n",
    "\n",
    "pipeline = Pipeline([\n",
    "    ('bow', CountVectorizer(analyzer=text_process)),  # strings to token integer counts\n",
    "    ('tfidf', TfidfTransformer()),  # integer counts to weighted TF-IDF scores\n",
    "    ('classifier', MultinomialNB()),  # train on TF-IDF vectors w/ Naive Bayes classifier\n",
    "])\n",
    "\n",
    "pipeline.fit(df_train['App Name'], df_train['Rating Bin'])\n",
    "predictions = pipeline.predict(df_test['App Name'])"
   ]
  },
  {
   "cell_type": "code",
   "execution_count": 126,
   "metadata": {},
   "outputs": [
    {
     "name": "stdout",
     "output_type": "stream",
     "text": [
      "              precision    recall  f1-score   support\n",
      "\n",
      "  Bad App Yo       0.58      0.48      0.53     33206\n",
      "    Moderate       0.49      0.49      0.49     26137\n",
      "      Superb       0.33      0.42      0.37     19550\n",
      "\n",
      "    accuracy                           0.47     78893\n",
      "   macro avg       0.47      0.46      0.46     78893\n",
      "weighted avg       0.49      0.47      0.48     78893\n",
      "\n",
      "Accuracy: 0.4693699060753172\n"
     ]
    }
   ],
   "source": [
    "print(classification_report(predictions, df_test['Rating Bin']))\n",
    "print('Accuracy: '+str((predictions == df_test['Rating Bin']).value_counts()[1] / len(predictions)))"
   ]
  },
  {
   "cell_type": "code",
   "execution_count": 72,
   "metadata": {},
   "outputs": [
    {
     "name": "stdout",
     "output_type": "stream",
     "text": [
      "Bad App Yo    0.354964\n",
      "Moderate      0.329083\n",
      "Superb        0.315953\n",
      "Name: Rating Bin, dtype: float64\n"
     ]
    }
   ],
   "source": [
    "print(df_test['Rating Bin'].value_counts()/len(df_test['Rating Bin']))"
   ]
  }
 ],
 "metadata": {
  "kernelspec": {
   "display_name": "Python 3",
   "language": "python",
   "name": "python3"
  },
  "language_info": {
   "codemirror_mode": {
    "name": "ipython",
    "version": 3
   },
   "file_extension": ".py",
   "mimetype": "text/x-python",
   "name": "python",
   "nbconvert_exporter": "python",
   "pygments_lexer": "ipython3",
   "version": "3.9.16"
  },
  "orig_nbformat": 4,
  "vscode": {
   "interpreter": {
    "hash": "443465b0117f7ee21d379372dbc15b9d5528136d1d4c8d116272f6744e1d6bdd"
   }
  }
 },
 "nbformat": 4,
 "nbformat_minor": 2
}
