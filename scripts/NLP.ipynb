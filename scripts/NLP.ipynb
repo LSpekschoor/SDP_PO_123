{
 "cells": [
  {
   "attachments": {},
   "cell_type": "markdown",
   "metadata": {},
   "source": [
    "Goal of this notebook is to apply natural language processing (NLP) on the app names, to predict rating bin.\n",
    "For inspiration the nlp chapter of the udemy course was used."
   ]
  },
  {
   "cell_type": "code",
   "execution_count": 26,
   "metadata": {},
   "outputs": [],
   "source": [
    "import nltk\n",
    "import os\n",
    "import pandas as pd\n",
    "import seaborn as sns\n",
    "import string\n",
    "from nltk.corpus import stopwords\n",
    "from sklearn.model_selection import train_test_split\n",
    "import matplotlib.pyplot as plt\n",
    "import matplotlib.transforms as mtransforms"
   ]
  },
  {
   "cell_type": "code",
   "execution_count": 3,
   "metadata": {},
   "outputs": [
    {
     "name": "stderr",
     "output_type": "stream",
     "text": [
      "[nltk_data] Downloading collection 'popular'\n",
      "[nltk_data]    | \n",
      "[nltk_data]    | Downloading package cmudict to C:\\Users\\~LarsSpekscho\n",
      "[nltk_data]    |     orTrain\\AppData\\Roaming\\nltk_data...\n",
      "[nltk_data]    |   Package cmudict is already up-to-date!\n",
      "[nltk_data]    | Downloading package gazetteers to C:\\Users\\~LarsSpeks\n",
      "[nltk_data]    |     choorTrain\\AppData\\Roaming\\nltk_data...\n",
      "[nltk_data]    |   Package gazetteers is already up-to-date!\n",
      "[nltk_data]    | Downloading package genesis to C:\\Users\\~LarsSpekscho\n",
      "[nltk_data]    |     orTrain\\AppData\\Roaming\\nltk_data...\n",
      "[nltk_data]    |   Package genesis is already up-to-date!\n",
      "[nltk_data]    | Downloading package gutenberg to C:\\Users\\~LarsSpeksc\n",
      "[nltk_data]    |     hoorTrain\\AppData\\Roaming\\nltk_data...\n",
      "[nltk_data]    |   Package gutenberg is already up-to-date!\n",
      "[nltk_data]    | Downloading package inaugural to C:\\Users\\~LarsSpeksc\n",
      "[nltk_data]    |     hoorTrain\\AppData\\Roaming\\nltk_data...\n",
      "[nltk_data]    |   Package inaugural is already up-to-date!\n",
      "[nltk_data]    | Downloading package movie_reviews to C:\\Users\\~LarsSp\n",
      "[nltk_data]    |     ekschoorTrain\\AppData\\Roaming\\nltk_data...\n",
      "[nltk_data]    |   Package movie_reviews is already up-to-date!\n",
      "[nltk_data]    | Downloading package names to C:\\Users\\~LarsSpekschoor\n",
      "[nltk_data]    |     Train\\AppData\\Roaming\\nltk_data...\n",
      "[nltk_data]    |   Package names is already up-to-date!\n",
      "[nltk_data]    | Downloading package shakespeare to C:\\Users\\~LarsSpek\n",
      "[nltk_data]    |     schoorTrain\\AppData\\Roaming\\nltk_data...\n",
      "[nltk_data]    |   Package shakespeare is already up-to-date!\n",
      "[nltk_data]    | Downloading package stopwords to C:\\Users\\~LarsSpeksc\n",
      "[nltk_data]    |     hoorTrain\\AppData\\Roaming\\nltk_data...\n",
      "[nltk_data]    |   Package stopwords is already up-to-date!\n",
      "[nltk_data]    | Downloading package treebank to C:\\Users\\~LarsSpeksch\n",
      "[nltk_data]    |     oorTrain\\AppData\\Roaming\\nltk_data...\n",
      "[nltk_data]    |   Package treebank is already up-to-date!\n",
      "[nltk_data]    | Downloading package twitter_samples to C:\\Users\\~Lars\n",
      "[nltk_data]    |     SpekschoorTrain\\AppData\\Roaming\\nltk_data...\n",
      "[nltk_data]    |   Package twitter_samples is already up-to-date!\n",
      "[nltk_data]    | Downloading package omw to C:\\Users\\~LarsSpekschoorTr\n",
      "[nltk_data]    |     ain\\AppData\\Roaming\\nltk_data...\n",
      "[nltk_data]    |   Package omw is already up-to-date!\n",
      "[nltk_data]    | Downloading package omw-1.4 to C:\\Users\\~LarsSpekscho\n",
      "[nltk_data]    |     orTrain\\AppData\\Roaming\\nltk_data...\n",
      "[nltk_data]    |   Package omw-1.4 is already up-to-date!\n",
      "[nltk_data]    | Downloading package wordnet to C:\\Users\\~LarsSpekscho\n",
      "[nltk_data]    |     orTrain\\AppData\\Roaming\\nltk_data...\n",
      "[nltk_data]    |   Package wordnet is already up-to-date!\n",
      "[nltk_data]    | Downloading package wordnet2021 to C:\\Users\\~LarsSpek\n",
      "[nltk_data]    |     schoorTrain\\AppData\\Roaming\\nltk_data...\n",
      "[nltk_data]    |   Package wordnet2021 is already up-to-date!\n",
      "[nltk_data]    | Downloading package wordnet31 to C:\\Users\\~LarsSpeksc\n",
      "[nltk_data]    |     hoorTrain\\AppData\\Roaming\\nltk_data...\n",
      "[nltk_data]    |   Package wordnet31 is already up-to-date!\n",
      "[nltk_data]    | Downloading package wordnet_ic to C:\\Users\\~LarsSpeks\n",
      "[nltk_data]    |     choorTrain\\AppData\\Roaming\\nltk_data...\n",
      "[nltk_data]    |   Package wordnet_ic is already up-to-date!\n",
      "[nltk_data]    | Downloading package words to C:\\Users\\~LarsSpekschoor\n",
      "[nltk_data]    |     Train\\AppData\\Roaming\\nltk_data...\n",
      "[nltk_data]    |   Package words is already up-to-date!\n",
      "[nltk_data]    | Downloading package maxent_ne_chunker to C:\\Users\\~La\n",
      "[nltk_data]    |     rsSpekschoorTrain\\AppData\\Roaming\\nltk_data...\n",
      "[nltk_data]    |   Package maxent_ne_chunker is already up-to-date!\n",
      "[nltk_data]    | Downloading package punkt to C:\\Users\\~LarsSpekschoor\n",
      "[nltk_data]    |     Train\\AppData\\Roaming\\nltk_data...\n",
      "[nltk_data]    |   Package punkt is already up-to-date!\n",
      "[nltk_data]    | Downloading package snowball_data to C:\\Users\\~LarsSp\n",
      "[nltk_data]    |     ekschoorTrain\\AppData\\Roaming\\nltk_data...\n",
      "[nltk_data]    |   Package snowball_data is already up-to-date!\n",
      "[nltk_data]    | Downloading package averaged_perceptron_tagger to C:\\\n",
      "[nltk_data]    |     Users\\~LarsSpekschoorTrain\\AppData\\Roaming\\nltk_d\n",
      "[nltk_data]    |     ata...\n",
      "[nltk_data]    |   Package averaged_perceptron_tagger is already up-\n",
      "[nltk_data]    |       to-date!\n",
      "[nltk_data]    | \n",
      "[nltk_data]  Done downloading collection popular\n"
     ]
    },
    {
     "data": {
      "text/plain": [
       "True"
      ]
     },
     "execution_count": 3,
     "metadata": {},
     "output_type": "execute_result"
    }
   ],
   "source": [
    "nltk.download('popular')"
   ]
  },
  {
   "cell_type": "code",
   "execution_count": 4,
   "metadata": {},
   "outputs": [],
   "source": [
    "# Data source: https://www.kaggle.com/datasets/gauthamp10/google-playstore-apps\n",
    "path = os.getcwd() + \"/../data/Google-Playstore-Modified.parquet\"\n",
    "df = pd.read_parquet(path, engine='fastparquet')"
   ]
  },
  {
   "cell_type": "code",
   "execution_count": 8,
   "metadata": {},
   "outputs": [],
   "source": [
    "#Temporarily add back Rating Bin\n",
    "df['Rating Bin'] = (df[['Moderate', 'Superb', 'Bad App Yo']]==1).idxmax(1)"
   ]
  },
  {
   "cell_type": "code",
   "execution_count": 9,
   "metadata": {},
   "outputs": [
    {
     "data": {
      "text/html": [
       "<div>\n",
       "<style scoped>\n",
       "    .dataframe tbody tr th:only-of-type {\n",
       "        vertical-align: middle;\n",
       "    }\n",
       "\n",
       "    .dataframe tbody tr th {\n",
       "        vertical-align: top;\n",
       "    }\n",
       "\n",
       "    .dataframe thead th {\n",
       "        text-align: right;\n",
       "    }\n",
       "</style>\n",
       "<table border=\"1\" class=\"dataframe\">\n",
       "  <thead>\n",
       "    <tr style=\"text-align: right;\">\n",
       "      <th></th>\n",
       "      <th>App Name</th>\n",
       "      <th>App Id</th>\n",
       "      <th>Rating Count</th>\n",
       "      <th>Maximum Installs</th>\n",
       "      <th>Free</th>\n",
       "      <th>Price</th>\n",
       "      <th>Size</th>\n",
       "      <th>Ad Supported</th>\n",
       "      <th>In App Purchases</th>\n",
       "      <th>Name Length</th>\n",
       "      <th>Size Cat</th>\n",
       "      <th>Days Release to Last Update</th>\n",
       "      <th>Moderate</th>\n",
       "      <th>Superb</th>\n",
       "      <th>Bad App Yo</th>\n",
       "      <th>Personal &amp; Social</th>\n",
       "      <th>Entertainment</th>\n",
       "      <th>Development</th>\n",
       "      <th>Rating Bin</th>\n",
       "    </tr>\n",
       "  </thead>\n",
       "  <tbody>\n",
       "    <tr>\n",
       "      <th>0</th>\n",
       "      <td>Ampere Battery Info</td>\n",
       "      <td>com.webserveis.batteryinfo</td>\n",
       "      <td>64</td>\n",
       "      <td>7662</td>\n",
       "      <td>True</td>\n",
       "      <td>0.0</td>\n",
       "      <td>2.9</td>\n",
       "      <td>True</td>\n",
       "      <td>False</td>\n",
       "      <td>19</td>\n",
       "      <td>Known</td>\n",
       "      <td>350</td>\n",
       "      <td>0</td>\n",
       "      <td>1</td>\n",
       "      <td>0</td>\n",
       "      <td>0</td>\n",
       "      <td>1</td>\n",
       "      <td>0</td>\n",
       "      <td>Superb</td>\n",
       "    </tr>\n",
       "    <tr>\n",
       "      <th>1</th>\n",
       "      <td>unlimited 4G data prank free app</td>\n",
       "      <td>getfreedata.superfatiza.unlimitedjiodataprank</td>\n",
       "      <td>12</td>\n",
       "      <td>2567</td>\n",
       "      <td>True</td>\n",
       "      <td>0.0</td>\n",
       "      <td>2.5</td>\n",
       "      <td>True</td>\n",
       "      <td>False</td>\n",
       "      <td>32</td>\n",
       "      <td>Known</td>\n",
       "      <td>4</td>\n",
       "      <td>0</td>\n",
       "      <td>0</td>\n",
       "      <td>1</td>\n",
       "      <td>0</td>\n",
       "      <td>1</td>\n",
       "      <td>0</td>\n",
       "      <td>Bad App Yo</td>\n",
       "    </tr>\n",
       "    <tr>\n",
       "      <th>2</th>\n",
       "      <td>The Everyday Calendar</td>\n",
       "      <td>com.mozaix.simoneboard</td>\n",
       "      <td>39</td>\n",
       "      <td>702</td>\n",
       "      <td>True</td>\n",
       "      <td>0.0</td>\n",
       "      <td>16.0</td>\n",
       "      <td>False</td>\n",
       "      <td>False</td>\n",
       "      <td>21</td>\n",
       "      <td>Known</td>\n",
       "      <td>0</td>\n",
       "      <td>1</td>\n",
       "      <td>0</td>\n",
       "      <td>0</td>\n",
       "      <td>0</td>\n",
       "      <td>0</td>\n",
       "      <td>1</td>\n",
       "      <td>Moderate</td>\n",
       "    </tr>\n",
       "    <tr>\n",
       "      <th>3</th>\n",
       "      <td>Neon 3d Iron Tech Keyboard Theme</td>\n",
       "      <td>com.ikeyboard.theme.neon_3d.iron.tech</td>\n",
       "      <td>820</td>\n",
       "      <td>62433</td>\n",
       "      <td>True</td>\n",
       "      <td>0.0</td>\n",
       "      <td>3.5</td>\n",
       "      <td>True</td>\n",
       "      <td>False</td>\n",
       "      <td>32</td>\n",
       "      <td>Known</td>\n",
       "      <td>381</td>\n",
       "      <td>0</td>\n",
       "      <td>0</td>\n",
       "      <td>1</td>\n",
       "      <td>0</td>\n",
       "      <td>0</td>\n",
       "      <td>1</td>\n",
       "      <td>Bad App Yo</td>\n",
       "    </tr>\n",
       "    <tr>\n",
       "      <th>4</th>\n",
       "      <td>Dodge The Cars!</td>\n",
       "      <td>com.MrScratchEnterprises.CarDogeGame</td>\n",
       "      <td>55</td>\n",
       "      <td>329</td>\n",
       "      <td>True</td>\n",
       "      <td>0.0</td>\n",
       "      <td>51.0</td>\n",
       "      <td>False</td>\n",
       "      <td>False</td>\n",
       "      <td>15</td>\n",
       "      <td>Known</td>\n",
       "      <td>0</td>\n",
       "      <td>0</td>\n",
       "      <td>0</td>\n",
       "      <td>1</td>\n",
       "      <td>1</td>\n",
       "      <td>0</td>\n",
       "      <td>0</td>\n",
       "      <td>Bad App Yo</td>\n",
       "    </tr>\n",
       "  </tbody>\n",
       "</table>\n",
       "</div>"
      ],
      "text/plain": [
       "                           App Name  \\\n",
       "0               Ampere Battery Info   \n",
       "1  unlimited 4G data prank free app   \n",
       "2             The Everyday Calendar   \n",
       "3  Neon 3d Iron Tech Keyboard Theme   \n",
       "4                   Dodge The Cars!   \n",
       "\n",
       "                                          App Id  Rating Count  \\\n",
       "0                     com.webserveis.batteryinfo            64   \n",
       "1  getfreedata.superfatiza.unlimitedjiodataprank            12   \n",
       "2                         com.mozaix.simoneboard            39   \n",
       "3          com.ikeyboard.theme.neon_3d.iron.tech           820   \n",
       "4           com.MrScratchEnterprises.CarDogeGame            55   \n",
       "\n",
       "   Maximum Installs  Free  Price  Size  Ad Supported  In App Purchases  \\\n",
       "0              7662  True    0.0   2.9          True             False   \n",
       "1              2567  True    0.0   2.5          True             False   \n",
       "2               702  True    0.0  16.0         False             False   \n",
       "3             62433  True    0.0   3.5          True             False   \n",
       "4               329  True    0.0  51.0         False             False   \n",
       "\n",
       "   Name Length Size Cat  Days Release to Last Update  Moderate  Superb  \\\n",
       "0           19    Known                          350         0       1   \n",
       "1           32    Known                            4         0       0   \n",
       "2           21    Known                            0         1       0   \n",
       "3           32    Known                          381         0       0   \n",
       "4           15    Known                            0         0       0   \n",
       "\n",
       "   Bad App Yo  Personal & Social  Entertainment  Development  Rating Bin  \n",
       "0           0                  0              1            0      Superb  \n",
       "1           1                  0              1            0  Bad App Yo  \n",
       "2           0                  0              0            1    Moderate  \n",
       "3           1                  0              0            1  Bad App Yo  \n",
       "4           1                  1              0            0  Bad App Yo  "
      ]
     },
     "execution_count": 9,
     "metadata": {},
     "output_type": "execute_result"
    }
   ],
   "source": [
    "df.head()"
   ]
  },
  {
   "cell_type": "code",
   "execution_count": 41,
   "metadata": {},
   "outputs": [
    {
     "data": {
      "text/html": [
       "<div>\n",
       "<style scoped>\n",
       "    .dataframe tbody tr th:only-of-type {\n",
       "        vertical-align: middle;\n",
       "    }\n",
       "\n",
       "    .dataframe tbody tr th {\n",
       "        vertical-align: top;\n",
       "    }\n",
       "\n",
       "    .dataframe thead tr th {\n",
       "        text-align: left;\n",
       "    }\n",
       "\n",
       "    .dataframe thead tr:last-of-type th {\n",
       "        text-align: right;\n",
       "    }\n",
       "</style>\n",
       "<table border=\"1\" class=\"dataframe\">\n",
       "  <thead>\n",
       "    <tr>\n",
       "      <th></th>\n",
       "      <th colspan=\"8\" halign=\"left\">Name Length</th>\n",
       "    </tr>\n",
       "    <tr>\n",
       "      <th></th>\n",
       "      <th>count</th>\n",
       "      <th>mean</th>\n",
       "      <th>std</th>\n",
       "      <th>min</th>\n",
       "      <th>25%</th>\n",
       "      <th>50%</th>\n",
       "      <th>75%</th>\n",
       "      <th>max</th>\n",
       "    </tr>\n",
       "    <tr>\n",
       "      <th>Rating Bin</th>\n",
       "      <th></th>\n",
       "      <th></th>\n",
       "      <th></th>\n",
       "      <th></th>\n",
       "      <th></th>\n",
       "      <th></th>\n",
       "      <th></th>\n",
       "      <th></th>\n",
       "    </tr>\n",
       "  </thead>\n",
       "  <tbody>\n",
       "    <tr>\n",
       "      <th>Bad App Yo</th>\n",
       "      <td>218954.0</td>\n",
       "      <td>22.942463</td>\n",
       "      <td>12.487027</td>\n",
       "      <td>1.0</td>\n",
       "      <td>13.0</td>\n",
       "      <td>20.0</td>\n",
       "      <td>30.0</td>\n",
       "      <td>50.0</td>\n",
       "    </tr>\n",
       "    <tr>\n",
       "      <th>Moderate</th>\n",
       "      <td>205467.0</td>\n",
       "      <td>22.321219</td>\n",
       "      <td>12.213647</td>\n",
       "      <td>1.0</td>\n",
       "      <td>13.0</td>\n",
       "      <td>20.0</td>\n",
       "      <td>29.0</td>\n",
       "      <td>50.0</td>\n",
       "    </tr>\n",
       "    <tr>\n",
       "      <th>Superb</th>\n",
       "      <td>196831.0</td>\n",
       "      <td>24.316454</td>\n",
       "      <td>12.321888</td>\n",
       "      <td>1.0</td>\n",
       "      <td>14.0</td>\n",
       "      <td>23.0</td>\n",
       "      <td>31.0</td>\n",
       "      <td>50.0</td>\n",
       "    </tr>\n",
       "  </tbody>\n",
       "</table>\n",
       "</div>"
      ],
      "text/plain": [
       "           Name Length                                                   \n",
       "                 count       mean        std  min   25%   50%   75%   max\n",
       "Rating Bin                                                               \n",
       "Bad App Yo    218954.0  22.942463  12.487027  1.0  13.0  20.0  30.0  50.0\n",
       "Moderate      205467.0  22.321219  12.213647  1.0  13.0  20.0  29.0  50.0\n",
       "Superb        196831.0  24.316454  12.321888  1.0  14.0  23.0  31.0  50.0"
      ]
     },
     "execution_count": 41,
     "metadata": {},
     "output_type": "execute_result"
    }
   ],
   "source": [
    "#Next two lines were moved to feature engineering\n",
    "#df['App Name'] = df['App Name'].apply(str)\n",
    "#df['Name Name Length'] = df['App Name'].apply(len)\n",
    "df = df[['App Name', 'Rating Bin', 'Name Length']]\n",
    "\n",
    "x_train, x_test, y_train, y_test = train_test_split(df[['App Name', 'Name Length']], df['Rating Bin'], test_size=0.1, random_state=123)\n",
    "x_train, x_val, y_train, y_val = train_test_split(x_train, y_train, test_size=0.1, random_state=123)\n",
    "\n",
    "df_train = pd.concat([x_train, y_train], axis=1)\n",
    "df_val = pd.concat([x_val, y_val], axis=1)\n",
    "df_test = pd.concat([x_test, y_test], axis=1)\n",
    "\n",
    "df_train.groupby('Rating Bin').describe()"
   ]
  },
  {
   "cell_type": "code",
   "execution_count": 33,
   "metadata": {},
   "outputs": [
    {
     "data": {
      "text/plain": [
       "pandas.core.series.Series"
      ]
     },
     "execution_count": 33,
     "metadata": {},
     "output_type": "execute_result"
    }
   ],
   "source": [
    "type(y_train)"
   ]
  },
  {
   "attachments": {},
   "cell_type": "markdown",
   "metadata": {},
   "source": [
    "How is the Name Length of app name distributed?"
   ]
  },
  {
   "cell_type": "code",
   "execution_count": 43,
   "metadata": {},
   "outputs": [
    {
     "data": {
      "image/png": "[encoded data removed]",
      "text/plain": [
       "<Figure size 1000x400 with 2 Axes>"
      ]
     },
     "metadata": {},
     "output_type": "display_data"
    }
   ],
   "source": [
    "fig, axs = plt.subplots(1,2, figsize=(10, 4), constrained_layout=True)\n",
    "sns.histplot(x = df_train['Name Length'], bins=50, ax=axs[0])\n",
    "sns.kdeplot(x = df_train['Name Length'], hue=df_train['Rating Bin'], ax=axs[1])\n",
    "#From: https://discourse.matplotlib.org/t/how-to-save-subplots-separately/22657/2\n",
    "fig.savefig(\n",
    "    \"../outputs/figures/Name Length counts all.png\",\n",
    "    # we need a bounding box in inches\n",
    "    bbox_inches=mtransforms.Bbox(\n",
    "        # This is in \"figure fraction\" for the bottom half\n",
    "        # input in [[xmin, ymin], [xmax, ymax]]\n",
    "        [[0, 0], [0.5, 1]]\n",
    "    ).transformed(\n",
    "        # this take data from figure fraction -> inches\n",
    "        #    transFigrue goes from figure fraction -> pixels\n",
    "        #    dpi_scale_trans goes from inches -> pixels\n",
    "        (fig.transFigure - fig.dpi_scale_trans)\n",
    "    ),\n",
    ")\n",
    "fig.savefig(\n",
    "    \"../outputs/figures/Name Length kde by Rating Bin.png\",\n",
    "    # we need a bounding box in inches\n",
    "    bbox_inches=mtransforms.Bbox(\n",
    "        # This is in \"figure fraction\" for the bottom half\n",
    "        # input in [[xmin, ymin], [xmax, ymax]]\n",
    "        [[0.5, 0], [1, 1]]\n",
    "    ).transformed(\n",
    "        # this take data from figure fraction -> inches\n",
    "        #    transFigrue goes from figure fraction -> pixels\n",
    "        #    dpi_scale_trans goes from inches -> pixels\n",
    "        (fig.transFigure - fig.dpi_scale_trans)\n",
    "    ),\n",
    ")\n"
   ]
  },
  {
   "attachments": {},
   "cell_type": "markdown",
   "metadata": {},
   "source": [
    "Is there something off about the longer app names?\n",
    "Yes, there are many apps with length 30 or 50, because these represent a new and old maximum length set by Google resp.\n",
    "App names do not appear truncated, suggesting developers are actively trying to fit their name within the limits."
   ]
  },
  {
   "cell_type": "code",
   "execution_count": 50,
   "metadata": {},
   "outputs": [
    {
     "data": {
      "text/plain": [
       "['Speak Hungarian : Learn Hungarian Language Offline',\n",
       " 'Tech VPN - Free VPN Proxy, Secure fast VPN Privacy',\n",
       " 'आयुर्वेदीक घरगुती उपाय-डॉ.स्वागत तोडकर,राजीव दीक्ष',\n",
       " 'Law College and OpenUniversity Entrance Exam Guide',\n",
       " 'Chiang Mai SmartGuide - Audio Guide & Offline Maps',\n",
       " 'تعلم الإنجليزية بالإستماع والتكلم-English learning',\n",
       " 'PhotoLab Pro : Neon Photo Editor, Background erase',\n",
       " 'Top Ghana Radio Stations -Peace FM, MOGPA, AngelFM',\n",
       " 'hCue Lite for Doctor| Practice Management Software',\n",
       " 'Lei Orgânica da Saúde - Leis nº 8080 + 8142 + 7508',\n",
       " 'Switch Up: Ping Pong  Classic Arcade Games – Retro',\n",
       " 'IELTS Cue Card:Speaking Practice Material for Exam',\n",
       " '強勢股 - 強勢股神器 下一檔飆股在這裡 (強勢股 選股 漲跌 個股分析 台股 股市 股票 看盤 )',\n",
       " 'Gun Strike - squad battleground | commando mission',\n",
       " 'INFO TAGIHAN - CEK BIAYA LISTRIK PLN AIR PDAM BPJS',\n",
       " 'Online Toll Road Payment. Tolling Service by Peasy',\n",
       " 'Cargo Tractor Trolley Racing Game - New Games 2021',\n",
       " 'K-Pop Fans – Latest Daily Kpop News, Videos, Drama',\n",
       " 'Story Saver for Instagram and Whatsapp, Save Story',\n",
       " 'Dengbej Hozan Aydın // İnternetsiz Dinleyebilirsin']"
      ]
     },
     "execution_count": 50,
     "metadata": {},
     "output_type": "execute_result"
    }
   ],
   "source": [
    "list(df_train[df_train['Name Length'] == 50]['App Name'][:20])"
   ]
  },
  {
   "cell_type": "code",
   "execution_count": 51,
   "metadata": {},
   "outputs": [
    {
     "name": "stdout",
     "output_type": "stream",
     "text": [
      "!\"#$%&'()*+,-./:;<=>?@[\\]^_`{|}~\n",
      "['i', 'me', 'my', 'myself', 'we', 'our', 'ours', 'ourselves', 'you', \"you're\", \"you've\", \"you'll\", \"you'd\", 'your', 'yours', 'yourself', 'yourselves', 'he', 'him', 'his', 'himself', 'she', \"she's\", 'her', 'hers', 'herself', 'it', \"it's\", 'its', 'itself', 'they', 'them', 'their', 'theirs', 'themselves', 'what', 'which', 'who', 'whom', 'this', 'that', \"that'll\", 'these', 'those', 'am', 'is', 'are', 'was', 'were', 'be', 'been', 'being', 'have', 'has', 'had', 'having', 'do', 'does', 'did', 'doing', 'a', 'an', 'the', 'and', 'but', 'if', 'or', 'because', 'as', 'until', 'while', 'of', 'at', 'by', 'for', 'with', 'about', 'against', 'between', 'into', 'through', 'during', 'before', 'after', 'above', 'below', 'to', 'from', 'up', 'down', 'in', 'out', 'on', 'off', 'over', 'under', 'again', 'further', 'then', 'once', 'here', 'there', 'when', 'where', 'why', 'how', 'all', 'any', 'both', 'each', 'few', 'more', 'most', 'other', 'some', 'such', 'no', 'nor', 'not', 'only', 'own', 'same', 'so', 'than', 'too', 'very', 's', 't', 'can', 'will', 'just', 'don', \"don't\", 'should', \"should've\", 'now', 'd', 'll', 'm', 'o', 're', 've', 'y', 'ain', 'aren', \"aren't\", 'couldn', \"couldn't\", 'didn', \"didn't\", 'doesn', \"doesn't\", 'hadn', \"hadn't\", 'hasn', \"hasn't\", 'haven', \"haven't\", 'isn', \"isn't\", 'ma', 'mightn', \"mightn't\", 'mustn', \"mustn't\", 'needn', \"needn't\", 'shan', \"shan't\", 'shouldn', \"shouldn't\", 'wasn', \"wasn't\", 'weren', \"weren't\", 'won', \"won't\", 'wouldn', \"wouldn't\"]\n"
     ]
    },
    {
     "data": {
      "text/plain": [
       "730958             [Falling, Lights, Minimalist, Challenge]\n",
       "260838          [MAINGAU, Energie, Elektroauto, Carsharing]\n",
       "688773                                       [Square, Foot]\n",
       "704966    [Free, Data, Daily, 50, GB, free, internet, PR...\n",
       "522196                                       [AppLock, Car]\n",
       "678700                                          [BushraPay]\n",
       "501521                                    [クイックリップ（コピペツール）]\n",
       "553346                   [Candy, Pop, Pop, Sweet, Lollipop]\n",
       "64071                                      [Junghans, MEGA]\n",
       "630789                                [Prison, Break, Quiz]\n",
       "Name: App Name, dtype: object"
      ]
     },
     "execution_count": 51,
     "metadata": {},
     "output_type": "execute_result"
    }
   ],
   "source": [
    "print(string.punctuation)\n",
    "print(stopwords.words('english'))\n",
    "\n",
    "def text_process(mess):\n",
    "    \"\"\"\n",
    "    1. remove punc\n",
    "    2. remove stop words\n",
    "    3. return list of clean text words\n",
    "    \"\"\"\n",
    "    nopunc = ''.join([c for c in mess if c not in string.punctuation])\n",
    "    clean_mess = [word for word in nopunc.split() if word.lower() not in stopwords.words('english')]\n",
    "    return clean_mess\n",
    "\n",
    "df_train['App Name'].head(10).apply(text_process)"
   ]
  },
  {
   "cell_type": "code",
   "execution_count": 52,
   "metadata": {},
   "outputs": [],
   "source": [
    "from sklearn.feature_extraction.text import CountVectorizer\n",
    "bow_transformer = CountVectorizer(analyzer=text_process).fit(df_train['App Name'])"
   ]
  },
  {
   "cell_type": "code",
   "execution_count": 53,
   "metadata": {},
   "outputs": [
    {
     "name": "stdout",
     "output_type": "stream",
     "text": [
      "Dataframe shape:  (621252, 3)\n",
      "Bow transformer vocabulary length:  362993\n"
     ]
    }
   ],
   "source": [
    "print('Dataframe shape: ', str(df_train.shape))\n",
    "print('Bow transformer vocabulary length: ', str(len(bow_transformer.vocabulary_)))"
   ]
  },
  {
   "cell_type": "code",
   "execution_count": 54,
   "metadata": {},
   "outputs": [],
   "source": [
    "names_bow = bow_transformer.transform(df_train['App Name'])"
   ]
  },
  {
   "cell_type": "code",
   "execution_count": 55,
   "metadata": {},
   "outputs": [
    {
     "name": "stdout",
     "output_type": "stream",
     "text": [
      "Shape of Sparse Matrix:  (621252, 362993)\n",
      "Non-zero occurances:  2059967\n",
      "sparsity: 0.0009134698406888889\n"
     ]
    }
   ],
   "source": [
    "print('Shape of Sparse Matrix: ', names_bow.shape)\n",
    "print('Non-zero occurances: ', names_bow.nnz)\n",
    "\n",
    "sparsity = (100.0 * names_bow.nnz / (names_bow.shape[0] * names_bow.shape[1]))\n",
    "print('sparsity: {}'.format(sparsity))"
   ]
  },
  {
   "cell_type": "code",
   "execution_count": 57,
   "metadata": {},
   "outputs": [],
   "source": [
    "from sklearn.feature_extraction.text import TfidfTransformer\n",
    "\n",
    "tfidf_transformer = TfidfTransformer().fit(names_bow)"
   ]
  },
  {
   "cell_type": "code",
   "execution_count": 58,
   "metadata": {},
   "outputs": [
    {
     "name": "stdout",
     "output_type": "stream",
     "text": [
      "(621252, 362993)\n"
     ]
    }
   ],
   "source": [
    "names_tfidf = tfidf_transformer.transform(names_bow)\n",
    "print(names_tfidf.shape)"
   ]
  },
  {
   "cell_type": "code",
   "execution_count": 59,
   "metadata": {},
   "outputs": [],
   "source": [
    "from sklearn.naive_bayes import MultinomialNB\n",
    "names_model = MultinomialNB().fit(names_tfidf, df_train['Rating Bin'])"
   ]
  },
  {
   "cell_type": "code",
   "execution_count": 62,
   "metadata": {},
   "outputs": [
    {
     "name": "stdout",
     "output_type": "stream",
     "text": [
      "              precision    recall  f1-score   support\n",
      "\n",
      "  Bad App Yo       0.74      0.74      0.74    218954\n",
      "    Moderate       0.69      0.76      0.73    205467\n",
      "      Superb       0.68      0.61      0.65    196831\n",
      "\n",
      "    accuracy                           0.71    621252\n",
      "   macro avg       0.71      0.70      0.70    621252\n",
      "weighted avg       0.71      0.71      0.71    621252\n",
      "\n"
     ]
    }
   ],
   "source": [
    "train_predictions = names_model.predict(names_tfidf)\n",
    "#test_predictions = names_model.predict(nam)\n",
    "\n",
    "from sklearn.metrics import classification_report\n",
    "print (classification_report(df_train['Rating Bin'], train_predictions))"
   ]
  },
  {
   "cell_type": "code",
   "execution_count": 68,
   "metadata": {},
   "outputs": [
    {
     "name": "stdout",
     "output_type": "stream",
     "text": [
      "              precision    recall  f1-score   support\n",
      "\n",
      "  Bad App Yo       0.59      0.49      0.53     32659\n",
      "    Moderate       0.49      0.49      0.49     25158\n",
      "      Superb       0.33      0.42      0.37     18881\n",
      "\n",
      "    accuracy                           0.47     76698\n",
      "   macro avg       0.47      0.47      0.46     76698\n",
      "weighted avg       0.49      0.47      0.48     76698\n",
      "\n"
     ]
    }
   ],
   "source": [
    "from sklearn.pipeline import Pipeline\n",
    "\n",
    "pipeline = Pipeline([\n",
    "    ('bow', CountVectorizer(analyzer=text_process)),  # strings to token integer counts\n",
    "    ('tfidf', TfidfTransformer()),  # integer counts to weighted TF-IDF scores\n",
    "    ('classifier', MultinomialNB()),  # train on TF-IDF vectors w/ Naive Bayes classifier\n",
    "])\n",
    "\n",
    "pipeline.fit(df_train['App Name'], df_train['Rating Bin'])\n",
    "predictions = pipeline.predict(df_test['App Name'])\n",
    "\n",
    "print(classification_report(predictions, df_test['Rating Bin']))"
   ]
  },
  {
   "cell_type": "code",
   "execution_count": 72,
   "metadata": {},
   "outputs": [
    {
     "name": "stdout",
     "output_type": "stream",
     "text": [
      "Bad App Yo    0.354964\n",
      "Moderate      0.329083\n",
      "Superb        0.315953\n",
      "Name: Rating Bin, dtype: float64\n"
     ]
    }
   ],
   "source": [
    "print(df_test['Rating Bin'].value_counts()/len(df_test['Rating Bin']))"
   ]
  }
 ],
 "metadata": {
  "kernelspec": {
   "display_name": "Python 3",
   "language": "python",
   "name": "python3"
  },
  "language_info": {
   "codemirror_mode": {
    "name": "ipython",
    "version": 3
   },
   "file_extension": ".py",
   "mimetype": "text/x-python",
   "name": "python",
   "nbconvert_exporter": "python",
   "pygments_lexer": "ipython3",
   "version": "3.9.16"
  },
  "orig_nbformat": 4,
  "vscode": {
   "interpreter": {
    "hash": "443465b0117f7ee21d379372dbc15b9d5528136d1d4c8d116272f6744e1d6bdd"
   }
  }
 },
 "nbformat": 4,
 "nbformat_minor": 2
}
